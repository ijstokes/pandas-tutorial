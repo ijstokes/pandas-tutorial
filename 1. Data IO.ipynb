{
 "cells": [
  {
   "cell_type": "markdown",
   "metadata": {
    "slideshow": {
     "slide_type": "slide"
    }
   },
   "source": [
    "# Importing Data"
   ]
  },
  {
   "cell_type": "code",
   "execution_count": 15,
   "metadata": {
    "collapsed": false,
    "slideshow": {
     "slide_type": "fragment"
    }
   },
   "outputs": [
    {
     "data": {
      "text/plain": [
       "'0.17.1'"
      ]
     },
     "execution_count": 15,
     "metadata": {},
     "output_type": "execute_result"
    }
   ],
   "source": [
    "import numpy as np\n",
    "import pandas as pd\n",
    "\n",
    "pd.options.display.max_rows = 20\n",
    "pd.options.display.max_columns = 15\n",
    "pd.__version__ "
   ]
  },
  {
   "cell_type": "markdown",
   "metadata": {
    "slideshow": {
     "slide_type": "slide"
    }
   },
   "source": [
    "We often times have a variety of input data.\n",
    "\n",
    "- CSV\n",
    "- Excel\n",
    "- SQL\n",
    "- JSON\n",
    "- HDF5\n",
    "- pickle\n",
    "- msgpack\n",
    "- Stata\n",
    "- BigQuery"
   ]
  },
  {
   "cell_type": "markdown",
   "metadata": {
    "slideshow": {
     "slide_type": "subslide"
    }
   },
   "source": [
    "This is subset of the data from beeradvocate.com, via [Standford](https://snap.stanford.edu/data/web-RateBeer.html). It's strangely formatted.\n",
    "\n",
    "This dataset is no longer available!\n",
    "\n",
    "<p style=\"font-size:20px\"; style=font-family:Courier>\n",
    "beer/name: Sausa Weizen<br>\n",
    "beer/beerI: 47986<br>\n",
    "beer/brewerId: 10325<br>\n",
    "beer/ABV: 5.00<br>\n",
    "beer/style: Hefeweizen<br>\n",
    "review/appearance: 2.5<br>\n",
    "review/aroma: 2<br>\n",
    "review/time: 1234817823<br>\n",
    "review/profileName: stcules<br>\n",
    "review/text: A lot of foam. But a lot.\tIn the smell some banana, and then lactic and tart. Not a good start.\tQuite dark orange in color, with a lively carbonation (now visible, under the foam).\tAgain tending to lactic sourness.\tSame for the taste. With some yeast and banana.<br>\n",
    "<br>\n",
    "beer/name: Red Moon<br>\n",
    "beer/beerId: 48213<br>\n",
    "beer/brewerId: 10325<br>\n",
    "beer/ABV: 6.20<br>\n",
    " ...<br>\n",
    "</p>\n"
   ]
  },
  {
   "cell_type": "markdown",
   "metadata": {
    "slideshow": {
     "slide_type": "slide"
    }
   },
   "source": [
    "# CSV"
   ]
  },
  {
   "cell_type": "markdown",
   "metadata": {},
   "source": [
    "http://pandas.pydata.org/pandas-docs/stable/io.html#csv-text-files"
   ]
  },
  {
   "cell_type": "code",
   "execution_count": 13,
   "metadata": {
    "collapsed": true,
    "slideshow": {
     "slide_type": "subslide"
    }
   },
   "outputs": [],
   "source": [
    "df = pd.read_csv('data/beer2.csv.gz', \n",
    "                 index_col=0,\n",
    "                 parse_dates=['time'],\n",
    "                 encoding='utf-8')"
   ]
  },
  {
   "cell_type": "code",
   "execution_count": 3,
   "metadata": {
    "collapsed": false,
    "scrolled": true,
    "slideshow": {
     "slide_type": "subslide"
    }
   },
   "outputs": [
    {
     "data": {
      "text/html": [
       "<div>\n",
       "<table border=\"1\" class=\"dataframe\">\n",
       "  <thead>\n",
       "    <tr style=\"text-align: right;\">\n",
       "      <th></th>\n",
       "      <th>abv</th>\n",
       "      <th>beer_id</th>\n",
       "      <th>brewer_id</th>\n",
       "      <th>beer_name</th>\n",
       "      <th>...</th>\n",
       "      <th>profile_name</th>\n",
       "      <th>review_taste</th>\n",
       "      <th>text</th>\n",
       "      <th>time</th>\n",
       "    </tr>\n",
       "  </thead>\n",
       "  <tbody>\n",
       "    <tr>\n",
       "      <th>0</th>\n",
       "      <td>7.0</td>\n",
       "      <td>2511</td>\n",
       "      <td>287</td>\n",
       "      <td>Bell's Cherry Stout</td>\n",
       "      <td>...</td>\n",
       "      <td>blaheath</td>\n",
       "      <td>4.5</td>\n",
       "      <td>Batch 8144\\tPitch black in color with a 1/2 f...</td>\n",
       "      <td>2009-10-05 21:31:48</td>\n",
       "    </tr>\n",
       "    <tr>\n",
       "      <th>1</th>\n",
       "      <td>5.7</td>\n",
       "      <td>19736</td>\n",
       "      <td>9790</td>\n",
       "      <td>Duck-Rabbit Porter</td>\n",
       "      <td>...</td>\n",
       "      <td>GJ40</td>\n",
       "      <td>4.0</td>\n",
       "      <td>Sampled from a 12oz bottle in a standard pint...</td>\n",
       "      <td>2009-10-05 21:32:09</td>\n",
       "    </tr>\n",
       "    <tr>\n",
       "      <th>2</th>\n",
       "      <td>4.8</td>\n",
       "      <td>11098</td>\n",
       "      <td>3182</td>\n",
       "      <td>Fürstenberg Premium Pilsener</td>\n",
       "      <td>...</td>\n",
       "      <td>biegaman</td>\n",
       "      <td>3.5</td>\n",
       "      <td>Haystack yellow with an energetic group of bu...</td>\n",
       "      <td>2009-10-05 21:32:13</td>\n",
       "    </tr>\n",
       "    <tr>\n",
       "      <th>...</th>\n",
       "      <td>...</td>\n",
       "      <td>...</td>\n",
       "      <td>...</td>\n",
       "      <td>...</td>\n",
       "      <td>...</td>\n",
       "      <td>...</td>\n",
       "      <td>...</td>\n",
       "      <td>...</td>\n",
       "      <td>...</td>\n",
       "    </tr>\n",
       "    <tr>\n",
       "      <th>49997</th>\n",
       "      <td>8.1</td>\n",
       "      <td>21950</td>\n",
       "      <td>2372</td>\n",
       "      <td>Terrapin Coffee Oatmeal Imperial Stout</td>\n",
       "      <td>...</td>\n",
       "      <td>ugaterrapin</td>\n",
       "      <td>4.5</td>\n",
       "      <td>Poured a light sucking crude oil beckoning bl...</td>\n",
       "      <td>2009-12-25 17:23:52</td>\n",
       "    </tr>\n",
       "    <tr>\n",
       "      <th>49998</th>\n",
       "      <td>4.6</td>\n",
       "      <td>5453</td>\n",
       "      <td>1306</td>\n",
       "      <td>Badger Original Ale</td>\n",
       "      <td>...</td>\n",
       "      <td>MrHurmateeowish</td>\n",
       "      <td>3.5</td>\n",
       "      <td>500ml brown bottle, 4.0% ABV. Pours a crystal...</td>\n",
       "      <td>2009-12-25 17:25:06</td>\n",
       "    </tr>\n",
       "    <tr>\n",
       "      <th>49999</th>\n",
       "      <td>9.4</td>\n",
       "      <td>47695</td>\n",
       "      <td>14879</td>\n",
       "      <td>Barrel Aged B.O.R.I.S. Oatmeal Imperial Stout</td>\n",
       "      <td>...</td>\n",
       "      <td>strictly4DK</td>\n",
       "      <td>4.5</td>\n",
       "      <td>22 oz bottle poured into a flute glass, share...</td>\n",
       "      <td>2009-12-25 17:26:06</td>\n",
       "    </tr>\n",
       "  </tbody>\n",
       "</table>\n",
       "<p>50000 rows × 13 columns</p>\n",
       "</div>"
      ],
      "text/plain": [
       "       abv  beer_id  brewer_id                                      beer_name  \\\n",
       "0      7.0     2511        287                            Bell's Cherry Stout   \n",
       "1      5.7    19736       9790                             Duck-Rabbit Porter   \n",
       "2      4.8    11098       3182                   Fürstenberg Premium Pilsener   \n",
       "...    ...      ...        ...                                            ...   \n",
       "49997  8.1    21950       2372         Terrapin Coffee Oatmeal Imperial Stout   \n",
       "49998  4.6     5453       1306                            Badger Original Ale   \n",
       "49999  9.4    47695      14879  Barrel Aged B.O.R.I.S. Oatmeal Imperial Stout   \n",
       "\n",
       "              ...             profile_name  review_taste  \\\n",
       "0             ...                 blaheath           4.5   \n",
       "1             ...                     GJ40           4.0   \n",
       "2             ...                 biegaman           3.5   \n",
       "...           ...                      ...           ...   \n",
       "49997         ...              ugaterrapin           4.5   \n",
       "49998         ...          MrHurmateeowish           3.5   \n",
       "49999         ...              strictly4DK           4.5   \n",
       "\n",
       "                                                    text                time  \n",
       "0       Batch 8144\\tPitch black in color with a 1/2 f... 2009-10-05 21:31:48  \n",
       "1       Sampled from a 12oz bottle in a standard pint... 2009-10-05 21:32:09  \n",
       "2       Haystack yellow with an energetic group of bu... 2009-10-05 21:32:13  \n",
       "...                                                  ...                 ...  \n",
       "49997   Poured a light sucking crude oil beckoning bl... 2009-12-25 17:23:52  \n",
       "49998   500ml brown bottle, 4.0% ABV. Pours a crystal... 2009-12-25 17:25:06  \n",
       "49999   22 oz bottle poured into a flute glass, share... 2009-12-25 17:26:06  \n",
       "\n",
       "[50000 rows x 13 columns]"
      ]
     },
     "execution_count": 3,
     "metadata": {},
     "output_type": "execute_result"
    }
   ],
   "source": [
    "df"
   ]
  },
  {
   "cell_type": "code",
   "execution_count": 4,
   "metadata": {
    "collapsed": false,
    "slideshow": {
     "slide_type": "subslide"
    }
   },
   "outputs": [
    {
     "name": "stdout",
     "output_type": "stream",
     "text": [
      "<class 'pandas.core.frame.DataFrame'>\n",
      "Int64Index: 50000 entries, 0 to 49999\n",
      "Data columns (total 13 columns):\n",
      "abv                  48389 non-null float64\n",
      "beer_id              50000 non-null int64\n",
      "brewer_id            50000 non-null int64\n",
      "beer_name            50000 non-null object\n",
      "beer_style           50000 non-null object\n",
      "review_appearance    50000 non-null float64\n",
      "review_aroma         50000 non-null float64\n",
      "review_overall       50000 non-null float64\n",
      "review_palate        50000 non-null float64\n",
      "profile_name         50000 non-null object\n",
      "review_taste         50000 non-null float64\n",
      "text                 49991 non-null object\n",
      "time                 50000 non-null datetime64[ns]\n",
      "dtypes: datetime64[ns](1), float64(6), int64(2), object(4)\n",
      "memory usage: 5.3+ MB\n"
     ]
    }
   ],
   "source": [
    "df.info()"
   ]
  },
  {
   "cell_type": "code",
   "execution_count": 7,
   "metadata": {
    "collapsed": false,
    "slideshow": {
     "slide_type": "fragment"
    }
   },
   "outputs": [
    {
     "data": {
      "text/plain": [
       "'Fürstenberg Premium Pilsener'"
      ]
     },
     "execution_count": 7,
     "metadata": {},
     "output_type": "execute_result"
    }
   ],
   "source": [
    "# we have some unicode\n",
    "df.loc[2,'beer_name']"
   ]
  },
  {
   "cell_type": "code",
   "execution_count": 16,
   "metadata": {
    "collapsed": false
   },
   "outputs": [
    {
     "data": {
      "text/plain": [
       "abv                                                                4.8\n",
       "beer_id                                                          11098\n",
       "brewer_id                                                         3182\n",
       "beer_name                                 Fürstenberg Premium Pilsener\n",
       "beer_style                                             German Pilsener\n",
       "review_appearance                                                    4\n",
       "review_aroma                                                         3\n",
       "review_overall                                                       3\n",
       "review_palate                                                        3\n",
       "profile_name                                                  biegaman\n",
       "review_taste                                                       3.5\n",
       "text                  Haystack yellow with an energetic group of bu...\n",
       "time                                               2009-10-05 21:32:13\n",
       "Name: 2, dtype: object"
      ]
     },
     "execution_count": 16,
     "metadata": {},
     "output_type": "execute_result"
    }
   ],
   "source": [
    "df.loc[2]"
   ]
  },
  {
   "cell_type": "code",
   "execution_count": 17,
   "metadata": {
    "collapsed": true
   },
   "outputs": [],
   "source": [
    "row = df.loc[2]"
   ]
  },
  {
   "cell_type": "code",
   "execution_count": 18,
   "metadata": {
    "collapsed": false
   },
   "outputs": [
    {
     "data": {
      "text/plain": [
       "pandas.core.series.Series"
      ]
     },
     "execution_count": 18,
     "metadata": {},
     "output_type": "execute_result"
    }
   ],
   "source": [
    "type(row)"
   ]
  },
  {
   "cell_type": "code",
   "execution_count": 19,
   "metadata": {
    "collapsed": false
   },
   "outputs": [
    {
     "data": {
      "text/plain": [
       "4.7999999999999998"
      ]
     },
     "execution_count": 19,
     "metadata": {},
     "output_type": "execute_result"
    }
   ],
   "source": [
    "row['abv']"
   ]
  },
  {
   "cell_type": "code",
   "execution_count": 20,
   "metadata": {
    "collapsed": false
   },
   "outputs": [
    {
     "data": {
      "text/plain": [
       "4.7999999999999998"
      ]
     },
     "execution_count": 20,
     "metadata": {},
     "output_type": "execute_result"
    }
   ],
   "source": [
    "row.abv"
   ]
  },
  {
   "cell_type": "code",
   "execution_count": 21,
   "metadata": {
    "collapsed": false
   },
   "outputs": [
    {
     "data": {
      "text/plain": [
       "4.7999999999999998"
      ]
     },
     "execution_count": 21,
     "metadata": {},
     "output_type": "execute_result"
    }
   ],
   "source": [
    "row.abv"
   ]
  },
  {
   "cell_type": "code",
   "execution_count": 22,
   "metadata": {
    "collapsed": false
   },
   "outputs": [
    {
     "name": "stderr",
     "output_type": "stream",
     "text": [
      "/Users/ijstokes/anaconda/envs/pandas/lib/python3.5/site-packages/pandas/core/generic.py:2387: SettingWithCopyWarning: \n",
      "A value is trying to be set on a copy of a slice from a DataFrame\n",
      "\n",
      "See the caveats in the documentation: http://pandas.pydata.org/pandas-docs/stable/indexing.html#indexing-view-versus-copy\n",
      "  self[name] = value\n"
     ]
    }
   ],
   "source": [
    "row.abv=4.2"
   ]
  },
  {
   "cell_type": "code",
   "execution_count": 24,
   "metadata": {
    "collapsed": false
   },
   "outputs": [
    {
     "data": {
      "text/plain": [
       "4.2"
      ]
     },
     "execution_count": 24,
     "metadata": {},
     "output_type": "execute_result"
    }
   ],
   "source": [
    "row.abv"
   ]
  },
  {
   "cell_type": "code",
   "execution_count": 25,
   "metadata": {
    "collapsed": false
   },
   "outputs": [
    {
     "data": {
      "text/plain": [
       "abv                                                                4.8\n",
       "beer_id                                                          11098\n",
       "brewer_id                                                         3182\n",
       "beer_name                                 Fürstenberg Premium Pilsener\n",
       "beer_style                                             German Pilsener\n",
       "review_appearance                                                    4\n",
       "review_aroma                                                         3\n",
       "review_overall                                                       3\n",
       "review_palate                                                        3\n",
       "profile_name                                                  biegaman\n",
       "review_taste                                                       3.5\n",
       "text                  Haystack yellow with an energetic group of bu...\n",
       "time                                               2009-10-05 21:32:13\n",
       "Name: 2, dtype: object"
      ]
     },
     "execution_count": 25,
     "metadata": {},
     "output_type": "execute_result"
    }
   ],
   "source": [
    "df.loc[2]"
   ]
  },
  {
   "cell_type": "code",
   "execution_count": 29,
   "metadata": {
    "collapsed": false
   },
   "outputs": [],
   "source": [
    "df.to_csv?"
   ]
  },
  {
   "cell_type": "code",
   "execution_count": 30,
   "metadata": {
    "collapsed": false,
    "slideshow": {
     "slide_type": "fragment"
    }
   },
   "outputs": [],
   "source": [
    "df.to_csv('data/beer.csv', index=False, encoding='utf-8')"
   ]
  },
  {
   "cell_type": "code",
   "execution_count": 32,
   "metadata": {
    "collapsed": false
   },
   "outputs": [
    {
     "data": {
      "text/plain": [
       "650000"
      ]
     },
     "execution_count": 32,
     "metadata": {},
     "output_type": "execute_result"
    }
   ],
   "source": [
    "df.size"
   ]
  },
  {
   "cell_type": "code",
   "execution_count": 33,
   "metadata": {
    "collapsed": false
   },
   "outputs": [
    {
     "data": {
      "text/plain": [
       "650000.0"
      ]
     },
     "execution_count": 33,
     "metadata": {},
     "output_type": "execute_result"
    }
   ],
   "source": [
    "50e3 * 13"
   ]
  },
  {
   "cell_type": "code",
   "execution_count": 36,
   "metadata": {
    "collapsed": false
   },
   "outputs": [
    {
     "name": "stdout",
     "output_type": "stream",
     "text": [
      "-rw-r--r--  1 ijstokes  staff  42070683 Jan 13 11:44 data/beer.csv\r\n",
      "-rw-r--r--@ 1 ijstokes  staff  42359574 Jan 13 08:06 data/beer2.csv\r\n"
     ]
    }
   ],
   "source": [
    "!ls -Fla data/*.csv"
   ]
  },
  {
   "cell_type": "code",
   "execution_count": 37,
   "metadata": {
    "collapsed": false
   },
   "outputs": [
    {
     "name": "stdout",
     "output_type": "stream",
     "text": [
      "data/beer.csv   data/beer2.csv\r\n"
     ]
    }
   ],
   "source": [
    "ls data/*.csv"
   ]
  },
  {
   "cell_type": "markdown",
   "metadata": {
    "slideshow": {
     "slide_type": "slide"
    }
   },
   "source": [
    "# Excel"
   ]
  },
  {
   "cell_type": "markdown",
   "metadata": {
    "slideshow": {
     "slide_type": "-"
    }
   },
   "source": [
    "http://pandas.pydata.org/pandas-docs/stable/io.html#excel-files"
   ]
  },
  {
   "cell_type": "code",
   "execution_count": 38,
   "metadata": {
    "collapsed": false,
    "slideshow": {
     "slide_type": "-"
    }
   },
   "outputs": [],
   "source": [
    "df.to_excel('data/beer.xls', index=False, encoding='utf-8')"
   ]
  },
  {
   "cell_type": "code",
   "execution_count": 39,
   "metadata": {
    "collapsed": false,
    "slideshow": {
     "slide_type": "-"
    }
   },
   "outputs": [],
   "source": [
    "xldata = pd.read_excel('data/beer.xls', sheetnames=[0], encoding='utf-8')"
   ]
  },
  {
   "cell_type": "code",
   "execution_count": 40,
   "metadata": {
    "collapsed": false
   },
   "outputs": [
    {
     "data": {
      "text/plain": [
       "abv                                                                4.8\n",
       "beer_id                                                          11098\n",
       "brewer_id                                                         3182\n",
       "beer_name                                 Fürstenberg Premium Pilsener\n",
       "beer_style                                             German Pilsener\n",
       "review_appearance                                                    4\n",
       "review_aroma                                                         3\n",
       "review_overall                                                       3\n",
       "review_palate                                                        3\n",
       "profile_name                                                  biegaman\n",
       "review_taste                                                       3.5\n",
       "text                  Haystack yellow with an energetic group of bu...\n",
       "time                                               2009-10-05 21:32:13\n",
       "Name: 2, dtype: object"
      ]
     },
     "execution_count": 40,
     "metadata": {},
     "output_type": "execute_result"
    }
   ],
   "source": [
    "xldata.loc[2]"
   ]
  },
  {
   "cell_type": "code",
   "execution_count": 41,
   "metadata": {
    "collapsed": false
   },
   "outputs": [
    {
     "data": {
      "text/plain": [
       "abv                  True\n",
       "beer_id              True\n",
       "brewer_id            True\n",
       "beer_name            True\n",
       "beer_style           True\n",
       "review_appearance    True\n",
       "review_aroma         True\n",
       "review_overall       True\n",
       "review_palate        True\n",
       "profile_name         True\n",
       "review_taste         True\n",
       "text                 True\n",
       "time                 True\n",
       "Name: 2, dtype: bool"
      ]
     },
     "execution_count": 41,
     "metadata": {},
     "output_type": "execute_result"
    }
   ],
   "source": [
    "df.loc[2] == xldata.loc[2]"
   ]
  },
  {
   "cell_type": "code",
   "execution_count": 42,
   "metadata": {
    "collapsed": false
   },
   "outputs": [
    {
     "data": {
      "text/plain": [
       "abv                  False\n",
       "beer_id               True\n",
       "brewer_id             True\n",
       "beer_name             True\n",
       "beer_style            True\n",
       "review_appearance     True\n",
       "review_aroma          True\n",
       "review_overall        True\n",
       "review_palate         True\n",
       "profile_name          True\n",
       "review_taste          True\n",
       "text                  True\n",
       "time                  True\n",
       "Name: 2, dtype: bool"
      ]
     },
     "execution_count": 42,
     "metadata": {},
     "output_type": "execute_result"
    }
   ],
   "source": [
    "row == xldata.loc[2]"
   ]
  },
  {
   "cell_type": "markdown",
   "metadata": {
    "slideshow": {
     "slide_type": "slide"
    }
   },
   "source": [
    "# SQL"
   ]
  },
  {
   "cell_type": "markdown",
   "metadata": {},
   "source": [
    "http://pandas.pydata.org/pandas-docs/stable/io.html#sql-queries"
   ]
  },
  {
   "cell_type": "code",
   "execution_count": 43,
   "metadata": {
    "collapsed": true
   },
   "outputs": [],
   "source": [
    "!rm -f data/beer.sqlite"
   ]
  },
  {
   "cell_type": "code",
   "execution_count": 44,
   "metadata": {
    "collapsed": false,
    "slideshow": {
     "slide_type": "fragment"
    }
   },
   "outputs": [],
   "source": [
    "from sqlalchemy import create_engine\n",
    "\n",
    "engine = create_engine('sqlite:///data/beer.sqlite')"
   ]
  },
  {
   "cell_type": "code",
   "execution_count": 45,
   "metadata": {
    "collapsed": false,
    "slideshow": {
     "slide_type": "fragment"
    }
   },
   "outputs": [],
   "source": [
    "# take our dataframe and write it to a database table\n",
    "# called \"beer\" using SQL, and to the database accessed\n",
    "# via \"engine\"\n",
    "df.to_sql('beer', engine)"
   ]
  },
  {
   "cell_type": "code",
   "execution_count": 46,
   "metadata": {
    "collapsed": false
   },
   "outputs": [],
   "source": [
    "dbdata = pd.read_sql('beer', engine)"
   ]
  },
  {
   "cell_type": "code",
   "execution_count": 47,
   "metadata": {
    "collapsed": false
   },
   "outputs": [
    {
     "data": {
      "text/plain": [
       "index                                                                2\n",
       "abv                                                                4.8\n",
       "beer_id                                                          11098\n",
       "brewer_id                                                         3182\n",
       "beer_name                                 Fürstenberg Premium Pilsener\n",
       "beer_style                                             German Pilsener\n",
       "review_appearance                                                    4\n",
       "review_aroma                                                         3\n",
       "review_overall                                                       3\n",
       "review_palate                                                        3\n",
       "profile_name                                                  biegaman\n",
       "review_taste                                                       3.5\n",
       "text                  Haystack yellow with an energetic group of bu...\n",
       "time                                               2009-10-05 21:32:13\n",
       "Name: 2, dtype: object"
      ]
     },
     "execution_count": 47,
     "metadata": {},
     "output_type": "execute_result"
    }
   ],
   "source": [
    "dbdata.loc[2]"
   ]
  },
  {
   "cell_type": "markdown",
   "metadata": {
    "slideshow": {
     "slide_type": "slide"
    }
   },
   "source": [
    "# JSON"
   ]
  },
  {
   "cell_type": "markdown",
   "metadata": {},
   "source": [
    "http://pandas.pydata.org/pandas-docs/stable/io.html#json"
   ]
  },
  {
   "cell_type": "code",
   "execution_count": 49,
   "metadata": {
    "collapsed": true
   },
   "outputs": [],
   "source": [
    "df.to_json?"
   ]
  },
  {
   "cell_type": "code",
   "execution_count": 48,
   "metadata": {
    "collapsed": true
   },
   "outputs": [],
   "source": [
    "df.to_json('data/beer.json')"
   ]
  },
  {
   "cell_type": "code",
   "execution_count": 50,
   "metadata": {
    "collapsed": true
   },
   "outputs": [],
   "source": [
    "jsdata = pd.read_json('data/beer.json')"
   ]
  },
  {
   "cell_type": "markdown",
   "metadata": {
    "slideshow": {
     "slide_type": "slide"
    }
   },
   "source": [
    "# HDF"
   ]
  },
  {
   "cell_type": "markdown",
   "metadata": {},
   "source": [
    "http://pandas.pydata.org/pandas-docs/stable/io.html#hdf5-pytables"
   ]
  },
  {
   "cell_type": "code",
   "execution_count": 51,
   "metadata": {
    "collapsed": false,
    "slideshow": {
     "slide_type": "fragment"
    }
   },
   "outputs": [
    {
     "name": "stderr",
     "output_type": "stream",
     "text": [
      "/Users/ijstokes/anaconda/envs/pandas/lib/python3.5/site-packages/pandas/core/generic.py:939: PerformanceWarning: \n",
      "your performance may suffer as PyTables will pickle object types that it cannot\n",
      "map directly to c-types [inferred_type->mixed,key->block3_values] [items->['beer_name', 'beer_style', 'profile_name', 'text']]\n",
      "\n",
      "  return pytables.to_hdf(path_or_buf, key, self, **kwargs)\n"
     ]
    }
   ],
   "source": [
    "# fixed format\n",
    "df.to_hdf('data/beer_mixed.hdf',\n",
    "          'df',\n",
    "           mode='w',\n",
    "           format='fixed',\n",
    "           encoding='utf-8')"
   ]
  },
  {
   "cell_type": "code",
   "execution_count": 57,
   "metadata": {
    "collapsed": false,
    "slideshow": {
     "slide_type": "subslide"
    }
   },
   "outputs": [
    {
     "data": {
      "text/plain": [
       "0        False\n",
       "1        False\n",
       "2        False\n",
       "3        False\n",
       "4        False\n",
       "5        False\n",
       "6        False\n",
       "7        False\n",
       "8        False\n",
       "9        False\n",
       "         ...  \n",
       "49990    False\n",
       "49991    False\n",
       "49992    False\n",
       "49993    False\n",
       "49994    False\n",
       "49995    False\n",
       "49996    False\n",
       "49997    False\n",
       "49998    False\n",
       "49999    False\n",
       "Name: abv, dtype: bool"
      ]
     },
     "execution_count": 57,
     "metadata": {},
     "output_type": "execute_result"
    }
   ],
   "source": [
    "# find empty fields\n",
    "df.abv.isnull()"
   ]
  },
  {
   "cell_type": "code",
   "execution_count": 59,
   "metadata": {
    "collapsed": false
   },
   "outputs": [
    {
     "data": {
      "text/html": [
       "<div>\n",
       "<table border=\"1\" class=\"dataframe\">\n",
       "  <thead>\n",
       "    <tr style=\"text-align: right;\">\n",
       "      <th></th>\n",
       "      <th>abv</th>\n",
       "      <th>beer_id</th>\n",
       "      <th>brewer_id</th>\n",
       "      <th>beer_name</th>\n",
       "      <th>beer_style</th>\n",
       "      <th>review_appearance</th>\n",
       "      <th>review_aroma</th>\n",
       "      <th>review_overall</th>\n",
       "      <th>review_palate</th>\n",
       "      <th>profile_name</th>\n",
       "      <th>review_taste</th>\n",
       "      <th>text</th>\n",
       "      <th>time</th>\n",
       "    </tr>\n",
       "  </thead>\n",
       "  <tbody>\n",
       "    <tr>\n",
       "      <th>12</th>\n",
       "      <td>NaN</td>\n",
       "      <td>4765</td>\n",
       "      <td>1500</td>\n",
       "      <td>Brown Hound Brown Ale</td>\n",
       "      <td>English Brown Ale</td>\n",
       "      <td>4.0</td>\n",
       "      <td>4.0</td>\n",
       "      <td>4.0</td>\n",
       "      <td>4.0</td>\n",
       "      <td>CheckMate</td>\n",
       "      <td>4.0</td>\n",
       "      <td>1/2 gallon growler obtained at Whole Foods in...</td>\n",
       "      <td>2009-10-05 21:38:21</td>\n",
       "    </tr>\n",
       "    <tr>\n",
       "      <th>52</th>\n",
       "      <td>NaN</td>\n",
       "      <td>37149</td>\n",
       "      <td>5408</td>\n",
       "      <td>Gose</td>\n",
       "      <td>Gose</td>\n",
       "      <td>4.0</td>\n",
       "      <td>4.5</td>\n",
       "      <td>4.5</td>\n",
       "      <td>4.5</td>\n",
       "      <td>Mistofminn</td>\n",
       "      <td>4.5</td>\n",
       "      <td>Had this on tap at the Herkimer.\\t\\tServed in...</td>\n",
       "      <td>2009-10-05 22:27:57</td>\n",
       "    </tr>\n",
       "    <tr>\n",
       "      <th>58</th>\n",
       "      <td>NaN</td>\n",
       "      <td>53133</td>\n",
       "      <td>5408</td>\n",
       "      <td>Oktoberfest</td>\n",
       "      <td>Märzen / Oktoberfest</td>\n",
       "      <td>4.0</td>\n",
       "      <td>4.0</td>\n",
       "      <td>4.5</td>\n",
       "      <td>4.0</td>\n",
       "      <td>Mistofminn</td>\n",
       "      <td>4.0</td>\n",
       "      <td>Had this on tap during happy hour at the Herk...</td>\n",
       "      <td>2009-10-05 22:33:38</td>\n",
       "    </tr>\n",
       "    <tr>\n",
       "      <th>62</th>\n",
       "      <td>NaN</td>\n",
       "      <td>37920</td>\n",
       "      <td>5408</td>\n",
       "      <td>Sky Pilot</td>\n",
       "      <td>Keller Bier / Zwickel Bier</td>\n",
       "      <td>3.5</td>\n",
       "      <td>3.5</td>\n",
       "      <td>4.0</td>\n",
       "      <td>4.5</td>\n",
       "      <td>Mistofminn</td>\n",
       "      <td>3.5</td>\n",
       "      <td>Had this one as the third beer I ordered for ...</td>\n",
       "      <td>2009-10-05 22:40:29</td>\n",
       "    </tr>\n",
       "    <tr>\n",
       "      <th>63</th>\n",
       "      <td>NaN</td>\n",
       "      <td>40841</td>\n",
       "      <td>2674</td>\n",
       "      <td>Stout</td>\n",
       "      <td>American Stout</td>\n",
       "      <td>4.0</td>\n",
       "      <td>3.0</td>\n",
       "      <td>3.0</td>\n",
       "      <td>3.0</td>\n",
       "      <td>duffextracold</td>\n",
       "      <td>3.5</td>\n",
       "      <td>A- Poured deep dark brown, not quite black, p...</td>\n",
       "      <td>2009-10-05 22:43:39</td>\n",
       "    </tr>\n",
       "    <tr>\n",
       "      <th>65</th>\n",
       "      <td>NaN</td>\n",
       "      <td>42363</td>\n",
       "      <td>898</td>\n",
       "      <td>Oxford Class Organic Amber Ale</td>\n",
       "      <td>American Amber / Red Ale</td>\n",
       "      <td>3.0</td>\n",
       "      <td>4.0</td>\n",
       "      <td>3.0</td>\n",
       "      <td>3.0</td>\n",
       "      <td>mountdew1</td>\n",
       "      <td>3.5</td>\n",
       "      <td>Poured into an imperial pint glass. Color was...</td>\n",
       "      <td>2009-10-05 22:45:20</td>\n",
       "    </tr>\n",
       "    <tr>\n",
       "      <th>117</th>\n",
       "      <td>NaN</td>\n",
       "      <td>53138</td>\n",
       "      <td>6421</td>\n",
       "      <td>Blueberry Lager</td>\n",
       "      <td>Fruit / Vegetable Beer</td>\n",
       "      <td>3.0</td>\n",
       "      <td>4.0</td>\n",
       "      <td>4.5</td>\n",
       "      <td>4.0</td>\n",
       "      <td>t0rin0</td>\n",
       "      <td>3.5</td>\n",
       "      <td>On tap Friday (10/2/09)\\t\\tThey put a scoop o...</td>\n",
       "      <td>2009-10-05 23:42:11</td>\n",
       "    </tr>\n",
       "    <tr>\n",
       "      <th>126</th>\n",
       "      <td>NaN</td>\n",
       "      <td>627</td>\n",
       "      <td>183</td>\n",
       "      <td>Sterkens Dubbel Ale</td>\n",
       "      <td>Dubbel</td>\n",
       "      <td>3.5</td>\n",
       "      <td>3.5</td>\n",
       "      <td>4.0</td>\n",
       "      <td>3.5</td>\n",
       "      <td>mdwalsh</td>\n",
       "      <td>4.0</td>\n",
       "      <td>A: Pours a dark ruby or cola color with an al...</td>\n",
       "      <td>2009-10-05 23:49:34</td>\n",
       "    </tr>\n",
       "    <tr>\n",
       "      <th>127</th>\n",
       "      <td>NaN</td>\n",
       "      <td>53139</td>\n",
       "      <td>6421</td>\n",
       "      <td>Amber Ale</td>\n",
       "      <td>American Amber / Red Ale</td>\n",
       "      <td>4.0</td>\n",
       "      <td>4.0</td>\n",
       "      <td>4.0</td>\n",
       "      <td>4.0</td>\n",
       "      <td>t0rin0</td>\n",
       "      <td>3.5</td>\n",
       "      <td>Sampled last Friday (10/2/09)\\t\\tPours clear,...</td>\n",
       "      <td>2009-10-05 23:53:29</td>\n",
       "    </tr>\n",
       "    <tr>\n",
       "      <th>134</th>\n",
       "      <td>NaN</td>\n",
       "      <td>53141</td>\n",
       "      <td>6421</td>\n",
       "      <td>Hefeweizen</td>\n",
       "      <td>American Pale Wheat Ale</td>\n",
       "      <td>3.0</td>\n",
       "      <td>3.0</td>\n",
       "      <td>3.0</td>\n",
       "      <td>3.0</td>\n",
       "      <td>t0rin0</td>\n",
       "      <td>3.0</td>\n",
       "      <td>Sampled on Friday (10/2/09)\\t\\tEverything abo...</td>\n",
       "      <td>2009-10-06 00:05:45</td>\n",
       "    </tr>\n",
       "    <tr>\n",
       "      <th>...</th>\n",
       "      <td>...</td>\n",
       "      <td>...</td>\n",
       "      <td>...</td>\n",
       "      <td>...</td>\n",
       "      <td>...</td>\n",
       "      <td>...</td>\n",
       "      <td>...</td>\n",
       "      <td>...</td>\n",
       "      <td>...</td>\n",
       "      <td>...</td>\n",
       "      <td>...</td>\n",
       "      <td>...</td>\n",
       "      <td>...</td>\n",
       "    </tr>\n",
       "    <tr>\n",
       "      <th>49691</th>\n",
       "      <td>NaN</td>\n",
       "      <td>54685</td>\n",
       "      <td>6063</td>\n",
       "      <td>Monk's Christmas</td>\n",
       "      <td>Bock</td>\n",
       "      <td>4.0</td>\n",
       "      <td>3.5</td>\n",
       "      <td>4.5</td>\n",
       "      <td>4.5</td>\n",
       "      <td>Gavage</td>\n",
       "      <td>4.0</td>\n",
       "      <td>Appearance: pours a dark amber color with a 2...</td>\n",
       "      <td>2009-12-25 00:47:45</td>\n",
       "    </tr>\n",
       "    <tr>\n",
       "      <th>49698</th>\n",
       "      <td>NaN</td>\n",
       "      <td>2647</td>\n",
       "      <td>683</td>\n",
       "      <td>Juleøl</td>\n",
       "      <td>Herbed / Spiced Beer</td>\n",
       "      <td>3.5</td>\n",
       "      <td>4.0</td>\n",
       "      <td>3.0</td>\n",
       "      <td>4.0</td>\n",
       "      <td>darklordlager</td>\n",
       "      <td>3.0</td>\n",
       "      <td>A: Pours an opaque light lemon colour with a ...</td>\n",
       "      <td>2009-12-25 00:53:09</td>\n",
       "    </tr>\n",
       "    <tr>\n",
       "      <th>49740</th>\n",
       "      <td>NaN</td>\n",
       "      <td>5465</td>\n",
       "      <td>1001</td>\n",
       "      <td>Smoke Jumper Stout</td>\n",
       "      <td>American Stout</td>\n",
       "      <td>3.0</td>\n",
       "      <td>2.5</td>\n",
       "      <td>3.0</td>\n",
       "      <td>2.5</td>\n",
       "      <td>Oxymoron</td>\n",
       "      <td>3.0</td>\n",
       "      <td>Where there is smoke? Arrives a darker brown ...</td>\n",
       "      <td>2009-12-25 01:45:52</td>\n",
       "    </tr>\n",
       "    <tr>\n",
       "      <th>49780</th>\n",
       "      <td>NaN</td>\n",
       "      <td>7749</td>\n",
       "      <td>230</td>\n",
       "      <td>Barrington ESB</td>\n",
       "      <td>Extra Special / Strong Bitter (ESB)</td>\n",
       "      <td>4.0</td>\n",
       "      <td>3.5</td>\n",
       "      <td>3.5</td>\n",
       "      <td>2.5</td>\n",
       "      <td>dyan</td>\n",
       "      <td>3.0</td>\n",
       "      <td>On tap at the brewery today.\\t\\tThe pour is f...</td>\n",
       "      <td>2009-12-25 02:50:05</td>\n",
       "    </tr>\n",
       "    <tr>\n",
       "      <th>49846</th>\n",
       "      <td>NaN</td>\n",
       "      <td>54564</td>\n",
       "      <td>9629</td>\n",
       "      <td>Short's Kind Ale</td>\n",
       "      <td>American Pale Ale (APA)</td>\n",
       "      <td>5.0</td>\n",
       "      <td>3.0</td>\n",
       "      <td>4.5</td>\n",
       "      <td>4.0</td>\n",
       "      <td>spartanfan</td>\n",
       "      <td>3.0</td>\n",
       "      <td>A: Pours a clear honey color with a luxurious...</td>\n",
       "      <td>2009-12-25 04:11:37</td>\n",
       "    </tr>\n",
       "    <tr>\n",
       "      <th>49913</th>\n",
       "      <td>NaN</td>\n",
       "      <td>20968</td>\n",
       "      <td>1805</td>\n",
       "      <td>Mountain Holidays In Vermont Rich Creamy Bock ...</td>\n",
       "      <td>Bock</td>\n",
       "      <td>4.0</td>\n",
       "      <td>3.5</td>\n",
       "      <td>4.0</td>\n",
       "      <td>4.0</td>\n",
       "      <td>scootny</td>\n",
       "      <td>4.0</td>\n",
       "      <td>This is a very nice Christmas eve beer. A lov...</td>\n",
       "      <td>2009-12-25 06:16:19</td>\n",
       "    </tr>\n",
       "    <tr>\n",
       "      <th>49925</th>\n",
       "      <td>NaN</td>\n",
       "      <td>54996</td>\n",
       "      <td>10049</td>\n",
       "      <td>Albino Rhino Ale</td>\n",
       "      <td>American Pale Ale (APA)</td>\n",
       "      <td>3.5</td>\n",
       "      <td>3.5</td>\n",
       "      <td>3.5</td>\n",
       "      <td>3.5</td>\n",
       "      <td>biboergosum</td>\n",
       "      <td>3.5</td>\n",
       "      <td>On-tap at the Earl's restaurant chain - the w...</td>\n",
       "      <td>2009-12-25 07:04:42</td>\n",
       "    </tr>\n",
       "    <tr>\n",
       "      <th>49933</th>\n",
       "      <td>NaN</td>\n",
       "      <td>32932</td>\n",
       "      <td>793</td>\n",
       "      <td>Kiss The Lips IPA</td>\n",
       "      <td>American IPA</td>\n",
       "      <td>3.5</td>\n",
       "      <td>3.0</td>\n",
       "      <td>3.5</td>\n",
       "      <td>4.0</td>\n",
       "      <td>Onenote81</td>\n",
       "      <td>3.5</td>\n",
       "      <td>Had a bottle of this at the Bodega in La Cros...</td>\n",
       "      <td>2009-12-25 07:28:32</td>\n",
       "    </tr>\n",
       "    <tr>\n",
       "      <th>49950</th>\n",
       "      <td>NaN</td>\n",
       "      <td>52817</td>\n",
       "      <td>11174</td>\n",
       "      <td>Ed Hardy Premium Beer</td>\n",
       "      <td>American Adjunct Lager</td>\n",
       "      <td>1.5</td>\n",
       "      <td>1.0</td>\n",
       "      <td>2.0</td>\n",
       "      <td>1.5</td>\n",
       "      <td>n0rc41</td>\n",
       "      <td>1.0</td>\n",
       "      <td>I am going to some what quote the fellow belo...</td>\n",
       "      <td>2009-12-25 10:24:30</td>\n",
       "    </tr>\n",
       "    <tr>\n",
       "      <th>49972</th>\n",
       "      <td>NaN</td>\n",
       "      <td>46441</td>\n",
       "      <td>261</td>\n",
       "      <td>Santa's Beered '08</td>\n",
       "      <td>Winter Warmer</td>\n",
       "      <td>4.5</td>\n",
       "      <td>3.5</td>\n",
       "      <td>3.0</td>\n",
       "      <td>4.0</td>\n",
       "      <td>morimech</td>\n",
       "      <td>3.0</td>\n",
       "      <td>Santa did not drink his beer, so I will gladl...</td>\n",
       "      <td>2009-12-25 15:31:56</td>\n",
       "    </tr>\n",
       "  </tbody>\n",
       "</table>\n",
       "<p>1611 rows × 13 columns</p>\n",
       "</div>"
      ],
      "text/plain": [
       "       abv  beer_id  brewer_id  \\\n",
       "12     NaN     4765       1500   \n",
       "52     NaN    37149       5408   \n",
       "58     NaN    53133       5408   \n",
       "62     NaN    37920       5408   \n",
       "63     NaN    40841       2674   \n",
       "65     NaN    42363        898   \n",
       "117    NaN    53138       6421   \n",
       "126    NaN      627        183   \n",
       "127    NaN    53139       6421   \n",
       "134    NaN    53141       6421   \n",
       "...    ...      ...        ...   \n",
       "49691  NaN    54685       6063   \n",
       "49698  NaN     2647        683   \n",
       "49740  NaN     5465       1001   \n",
       "49780  NaN     7749        230   \n",
       "49846  NaN    54564       9629   \n",
       "49913  NaN    20968       1805   \n",
       "49925  NaN    54996      10049   \n",
       "49933  NaN    32932        793   \n",
       "49950  NaN    52817      11174   \n",
       "49972  NaN    46441        261   \n",
       "\n",
       "                                               beer_name  \\\n",
       "12                                 Brown Hound Brown Ale   \n",
       "52                                                  Gose   \n",
       "58                                           Oktoberfest   \n",
       "62                                             Sky Pilot   \n",
       "63                                                 Stout   \n",
       "65                        Oxford Class Organic Amber Ale   \n",
       "117                                      Blueberry Lager   \n",
       "126                                  Sterkens Dubbel Ale   \n",
       "127                                            Amber Ale   \n",
       "134                                           Hefeweizen   \n",
       "...                                                  ...   \n",
       "49691                                   Monk's Christmas   \n",
       "49698                                             Juleøl   \n",
       "49740                                 Smoke Jumper Stout   \n",
       "49780                                     Barrington ESB   \n",
       "49846                                   Short's Kind Ale   \n",
       "49913  Mountain Holidays In Vermont Rich Creamy Bock ...   \n",
       "49925                                   Albino Rhino Ale   \n",
       "49933                                  Kiss The Lips IPA   \n",
       "49950                              Ed Hardy Premium Beer   \n",
       "49972                                 Santa's Beered '08   \n",
       "\n",
       "                                beer_style  review_appearance  review_aroma  \\\n",
       "12                       English Brown Ale                4.0           4.0   \n",
       "52                                    Gose                4.0           4.5   \n",
       "58                    Märzen / Oktoberfest                4.0           4.0   \n",
       "62              Keller Bier / Zwickel Bier                3.5           3.5   \n",
       "63                          American Stout                4.0           3.0   \n",
       "65                American Amber / Red Ale                3.0           4.0   \n",
       "117                 Fruit / Vegetable Beer                3.0           4.0   \n",
       "126                                 Dubbel                3.5           3.5   \n",
       "127               American Amber / Red Ale                4.0           4.0   \n",
       "134                American Pale Wheat Ale                3.0           3.0   \n",
       "...                                    ...                ...           ...   \n",
       "49691                                 Bock                4.0           3.5   \n",
       "49698                 Herbed / Spiced Beer                3.5           4.0   \n",
       "49740                       American Stout                3.0           2.5   \n",
       "49780  Extra Special / Strong Bitter (ESB)                4.0           3.5   \n",
       "49846              American Pale Ale (APA)                5.0           3.0   \n",
       "49913                                 Bock                4.0           3.5   \n",
       "49925              American Pale Ale (APA)                3.5           3.5   \n",
       "49933                         American IPA                3.5           3.0   \n",
       "49950               American Adjunct Lager                1.5           1.0   \n",
       "49972                        Winter Warmer                4.5           3.5   \n",
       "\n",
       "       review_overall  review_palate   profile_name  review_taste  \\\n",
       "12                4.0            4.0      CheckMate           4.0   \n",
       "52                4.5            4.5     Mistofminn           4.5   \n",
       "58                4.5            4.0     Mistofminn           4.0   \n",
       "62                4.0            4.5     Mistofminn           3.5   \n",
       "63                3.0            3.0  duffextracold           3.5   \n",
       "65                3.0            3.0      mountdew1           3.5   \n",
       "117               4.5            4.0         t0rin0           3.5   \n",
       "126               4.0            3.5        mdwalsh           4.0   \n",
       "127               4.0            4.0         t0rin0           3.5   \n",
       "134               3.0            3.0         t0rin0           3.0   \n",
       "...               ...            ...            ...           ...   \n",
       "49691             4.5            4.5         Gavage           4.0   \n",
       "49698             3.0            4.0  darklordlager           3.0   \n",
       "49740             3.0            2.5       Oxymoron           3.0   \n",
       "49780             3.5            2.5           dyan           3.0   \n",
       "49846             4.5            4.0     spartanfan           3.0   \n",
       "49913             4.0            4.0        scootny           4.0   \n",
       "49925             3.5            3.5    biboergosum           3.5   \n",
       "49933             3.5            4.0      Onenote81           3.5   \n",
       "49950             2.0            1.5         n0rc41           1.0   \n",
       "49972             3.0            4.0       morimech           3.0   \n",
       "\n",
       "                                                    text                time  \n",
       "12      1/2 gallon growler obtained at Whole Foods in... 2009-10-05 21:38:21  \n",
       "52      Had this on tap at the Herkimer.\\t\\tServed in... 2009-10-05 22:27:57  \n",
       "58      Had this on tap during happy hour at the Herk... 2009-10-05 22:33:38  \n",
       "62      Had this one as the third beer I ordered for ... 2009-10-05 22:40:29  \n",
       "63      A- Poured deep dark brown, not quite black, p... 2009-10-05 22:43:39  \n",
       "65      Poured into an imperial pint glass. Color was... 2009-10-05 22:45:20  \n",
       "117     On tap Friday (10/2/09)\\t\\tThey put a scoop o... 2009-10-05 23:42:11  \n",
       "126     A: Pours a dark ruby or cola color with an al... 2009-10-05 23:49:34  \n",
       "127     Sampled last Friday (10/2/09)\\t\\tPours clear,... 2009-10-05 23:53:29  \n",
       "134     Sampled on Friday (10/2/09)\\t\\tEverything abo... 2009-10-06 00:05:45  \n",
       "...                                                  ...                 ...  \n",
       "49691   Appearance: pours a dark amber color with a 2... 2009-12-25 00:47:45  \n",
       "49698   A: Pours an opaque light lemon colour with a ... 2009-12-25 00:53:09  \n",
       "49740   Where there is smoke? Arrives a darker brown ... 2009-12-25 01:45:52  \n",
       "49780   On tap at the brewery today.\\t\\tThe pour is f... 2009-12-25 02:50:05  \n",
       "49846   A: Pours a clear honey color with a luxurious... 2009-12-25 04:11:37  \n",
       "49913   This is a very nice Christmas eve beer. A lov... 2009-12-25 06:16:19  \n",
       "49925   On-tap at the Earl's restaurant chain - the w... 2009-12-25 07:04:42  \n",
       "49933   Had a bottle of this at the Bodega in La Cros... 2009-12-25 07:28:32  \n",
       "49950   I am going to some what quote the fellow belo... 2009-12-25 10:24:30  \n",
       "49972   Santa did not drink his beer, so I will gladl... 2009-12-25 15:31:56  \n",
       "\n",
       "[1611 rows x 13 columns]"
      ]
     },
     "execution_count": 59,
     "metadata": {},
     "output_type": "execute_result"
    }
   ],
   "source": [
    "df[df.abv.isnull()]"
   ]
  },
  {
   "cell_type": "code",
   "execution_count": null,
   "metadata": {
    "collapsed": true
   },
   "outputs": [],
   "source": []
  },
  {
   "cell_type": "code",
   "execution_count": 60,
   "metadata": {
    "collapsed": false,
    "slideshow": {
     "slide_type": "subslide"
    }
   },
   "outputs": [],
   "source": [
    "data = pd.read_hdf('data/beer_mixed.hdf','df',encoding='utf-8')"
   ]
  },
  {
   "cell_type": "code",
   "execution_count": 61,
   "metadata": {
    "collapsed": false,
    "slideshow": {
     "slide_type": "fragment"
    }
   },
   "outputs": [
    {
     "data": {
      "text/plain": [
       "count    49991.000000\n",
       "mean       733.792003\n",
       "std        392.219226\n",
       "min         16.000000\n",
       "25%        458.000000\n",
       "50%        642.000000\n",
       "75%        900.000000\n",
       "max       4902.000000\n",
       "Name: text, dtype: float64"
      ]
     },
     "execution_count": 61,
     "metadata": {},
     "output_type": "execute_result"
    }
   ],
   "source": [
    "# wildly varying strings\n",
    "df.text.str.len().describe()"
   ]
  },
  {
   "cell_type": "code",
   "execution_count": 62,
   "metadata": {
    "collapsed": false
   },
   "outputs": [
    {
     "ename": "TypeError",
     "evalue": "object of type 'NoneType' has no len()",
     "output_type": "error",
     "traceback": [
      "\u001b[0;31m---------------------------------------------------------------------------\u001b[0m",
      "\u001b[0;31mTypeError\u001b[0m                                 Traceback (most recent call last)",
      "\u001b[0;32m<ipython-input-62-48ab06a8724d>\u001b[0m in \u001b[0;36m<module>\u001b[0;34m()\u001b[0m\n\u001b[0;32m----> 1\u001b[0;31m \u001b[0mlen\u001b[0m\u001b[0;34m(\u001b[0m\u001b[0;32mNone\u001b[0m\u001b[0;34m)\u001b[0m\u001b[0;34m\u001b[0m\u001b[0m\n\u001b[0m",
      "\u001b[0;31mTypeError\u001b[0m: object of type 'NoneType' has no len()"
     ]
    }
   ],
   "source": [
    "len(None)"
   ]
  },
  {
   "cell_type": "markdown",
   "metadata": {
    "slideshow": {
     "slide_type": "slide"
    }
   },
   "source": [
    "# Timings"
   ]
  },
  {
   "cell_type": "code",
   "execution_count": 63,
   "metadata": {
    "collapsed": false,
    "slideshow": {
     "slide_type": "fragment"
    }
   },
   "outputs": [
    {
     "name": "stdout",
     "output_type": "stream",
     "text": [
      "1 loops, best of 3: 2.62 s per loop\n"
     ]
    }
   ],
   "source": [
    "%timeit pd.read_excel('data/beer.xls', sheetnames=[0])"
   ]
  },
  {
   "cell_type": "code",
   "execution_count": 66,
   "metadata": {
    "collapsed": false,
    "slideshow": {
     "slide_type": "fragment"
    }
   },
   "outputs": [
    {
     "name": "stdout",
     "output_type": "stream",
     "text": [
      "1 loops, best of 3: 603 ms per loop\n"
     ]
    }
   ],
   "source": [
    "%%timeit\n",
    "\n",
    "pd.read_sql('beer', engine)"
   ]
  },
  {
   "cell_type": "code",
   "execution_count": 67,
   "metadata": {
    "collapsed": false,
    "slideshow": {
     "slide_type": "fragment"
    }
   },
   "outputs": [
    {
     "name": "stdout",
     "output_type": "stream",
     "text": [
      "1 loops, best of 3: 990 ms per loop\n"
     ]
    }
   ],
   "source": [
    "%timeit pd.read_json('data/beer.json')"
   ]
  },
  {
   "cell_type": "code",
   "execution_count": 68,
   "metadata": {
    "collapsed": false,
    "slideshow": {
     "slide_type": "fragment"
    }
   },
   "outputs": [
    {
     "name": "stdout",
     "output_type": "stream",
     "text": [
      "1 loops, best of 3: 497 ms per loop\n"
     ]
    }
   ],
   "source": [
    "%timeit pd.read_csv('data/beer.csv', parse_dates=['time'])"
   ]
  },
  {
   "cell_type": "code",
   "execution_count": 69,
   "metadata": {
    "collapsed": false,
    "slideshow": {
     "slide_type": "fragment"
    }
   },
   "outputs": [
    {
     "name": "stdout",
     "output_type": "stream",
     "text": [
      "10 loops, best of 3: 127 ms per loop\n"
     ]
    }
   ],
   "source": [
    "%timeit pd.read_hdf('data/beer_mixed.hdf','df')"
   ]
  },
  {
   "cell_type": "code",
   "execution_count": 70,
   "metadata": {
    "collapsed": false,
    "slideshow": {
     "slide_type": "subslide"
    }
   },
   "outputs": [
    {
     "name": "stdout",
     "output_type": "stream",
     "text": [
      "10 loops, best of 3: 89.1 ms per loop\n",
      "10 loops, best of 3: 132 ms per loop\n"
     ]
    }
   ],
   "source": [
    "%timeit df.to_pickle('data/beer.pkl')\n",
    "%timeit df.to_msgpack('data/beer.msgpack',encoding='utf-8')"
   ]
  },
  {
   "cell_type": "code",
   "execution_count": 71,
   "metadata": {
    "collapsed": false,
    "slideshow": {
     "slide_type": "fragment"
    }
   },
   "outputs": [
    {
     "name": "stdout",
     "output_type": "stream",
     "text": [
      "10 loops, best of 3: 41.2 ms per loop\n"
     ]
    }
   ],
   "source": [
    "%timeit pd.read_pickle('data/beer.pkl')"
   ]
  },
  {
   "cell_type": "code",
   "execution_count": 72,
   "metadata": {
    "collapsed": false,
    "slideshow": {
     "slide_type": "fragment"
    }
   },
   "outputs": [
    {
     "name": "stdout",
     "output_type": "stream",
     "text": [
      "10 loops, best of 3: 51.4 ms per loop\n"
     ]
    }
   ],
   "source": [
    "%timeit pd.read_msgpack('data/beer.msgpack', encoding='utf-8')"
   ]
  },
  {
   "cell_type": "markdown",
   "metadata": {
    "slideshow": {
     "slide_type": "slide"
    }
   },
   "source": [
    "# Storing Text vs Data\n",
    "http://matthewrocklin.com/blog/work/2015/03/16/Fast-Serialization/"
   ]
  },
  {
   "cell_type": "markdown",
   "metadata": {
    "slideshow": {
     "slide_type": "slide"
    }
   },
   "source": [
    "# Operating on Large Data"
   ]
  },
  {
   "cell_type": "code",
   "execution_count": 73,
   "metadata": {
    "collapsed": false,
    "slideshow": {
     "slide_type": "fragment"
    }
   },
   "outputs": [
    {
     "name": "stdout",
     "output_type": "stream",
     "text": [
      "0 -> 10000\n",
      "1 -> 10000\n",
      "2 -> 10000\n",
      "3 -> 10000\n",
      "4 -> 10000\n"
     ]
    }
   ],
   "source": [
    "chunks = pd.read_csv('data/beer2.csv.gz', \n",
    "                      index_col=0,\n",
    "                      parse_dates=['time'],\n",
    "                      chunksize=10000)\n",
    "for i, chunk in enumerate(chunks):\n",
    "    print(\"%d -> %d\" % (i, len(chunk)))"
   ]
  },
  {
   "cell_type": "code",
   "execution_count": 76,
   "metadata": {
    "collapsed": false
   },
   "outputs": [
    {
     "name": "stdout",
     "output_type": "stream",
     "text": [
      "100 loops, best of 3: 3.68 ms per loop\n"
     ]
    }
   ],
   "source": [
    "%%timeit\n",
    "chunks = pd.read_csv('data/beer2.csv.gz', \n",
    "                      index_col=0,\n",
    "                      parse_dates=['time'],\n",
    "                      chunksize=10000)"
   ]
  },
  {
   "cell_type": "code",
   "execution_count": 75,
   "metadata": {
    "collapsed": false
   },
   "outputs": [
    {
     "data": {
      "text/plain": [
       "<pandas.io.parsers.TextFileReader at 0x1130eed68>"
      ]
     },
     "execution_count": 75,
     "metadata": {},
     "output_type": "execute_result"
    }
   ],
   "source": [
    "chunks"
   ]
  },
  {
   "cell_type": "code",
   "execution_count": 78,
   "metadata": {
    "collapsed": false
   },
   "outputs": [],
   "source": [
    "chunks_it = iter(chunks)"
   ]
  },
  {
   "cell_type": "code",
   "execution_count": 80,
   "metadata": {
    "collapsed": false
   },
   "outputs": [],
   "source": [
    "mychnuck = next(chunks_it)"
   ]
  },
  {
   "cell_type": "code",
   "execution_count": 84,
   "metadata": {
    "collapsed": false
   },
   "outputs": [
    {
     "data": {
      "text/html": [
       "<div>\n",
       "<table border=\"1\" class=\"dataframe\">\n",
       "  <thead>\n",
       "    <tr style=\"text-align: right;\">\n",
       "      <th></th>\n",
       "      <th>abv</th>\n",
       "      <th>beer_id</th>\n",
       "      <th>brewer_id</th>\n",
       "      <th>beer_name</th>\n",
       "      <th>beer_style</th>\n",
       "      <th>review_appearance</th>\n",
       "      <th>review_aroma</th>\n",
       "      <th>review_overall</th>\n",
       "      <th>review_palate</th>\n",
       "      <th>profile_name</th>\n",
       "      <th>review_taste</th>\n",
       "      <th>text</th>\n",
       "      <th>time</th>\n",
       "    </tr>\n",
       "  </thead>\n",
       "  <tbody>\n",
       "    <tr>\n",
       "      <th>0</th>\n",
       "      <td>7.00</td>\n",
       "      <td>2511</td>\n",
       "      <td>287</td>\n",
       "      <td>Bell's Cherry Stout</td>\n",
       "      <td>American Stout</td>\n",
       "      <td>4.5</td>\n",
       "      <td>4.0</td>\n",
       "      <td>4.5</td>\n",
       "      <td>4.0</td>\n",
       "      <td>blaheath</td>\n",
       "      <td>4.5</td>\n",
       "      <td>Batch 8144\\tPitch black in color with a 1/2 f...</td>\n",
       "      <td>2009-10-05 21:31:48</td>\n",
       "    </tr>\n",
       "    <tr>\n",
       "      <th>1</th>\n",
       "      <td>5.70</td>\n",
       "      <td>19736</td>\n",
       "      <td>9790</td>\n",
       "      <td>Duck-Rabbit Porter</td>\n",
       "      <td>American Porter</td>\n",
       "      <td>4.5</td>\n",
       "      <td>4.0</td>\n",
       "      <td>4.5</td>\n",
       "      <td>4.0</td>\n",
       "      <td>GJ40</td>\n",
       "      <td>4.0</td>\n",
       "      <td>Sampled from a 12oz bottle in a standard pint...</td>\n",
       "      <td>2009-10-05 21:32:09</td>\n",
       "    </tr>\n",
       "    <tr>\n",
       "      <th>2</th>\n",
       "      <td>4.80</td>\n",
       "      <td>11098</td>\n",
       "      <td>3182</td>\n",
       "      <td>Fürstenberg Premium Pilsener</td>\n",
       "      <td>German Pilsener</td>\n",
       "      <td>4.0</td>\n",
       "      <td>3.0</td>\n",
       "      <td>3.0</td>\n",
       "      <td>3.0</td>\n",
       "      <td>biegaman</td>\n",
       "      <td>3.5</td>\n",
       "      <td>Haystack yellow with an energetic group of bu...</td>\n",
       "      <td>2009-10-05 21:32:13</td>\n",
       "    </tr>\n",
       "    <tr>\n",
       "      <th>3</th>\n",
       "      <td>9.50</td>\n",
       "      <td>28577</td>\n",
       "      <td>3818</td>\n",
       "      <td>Unearthly (Imperial India Pale Ale)</td>\n",
       "      <td>American Double / Imperial IPA</td>\n",
       "      <td>4.0</td>\n",
       "      <td>4.0</td>\n",
       "      <td>4.0</td>\n",
       "      <td>4.0</td>\n",
       "      <td>nick76</td>\n",
       "      <td>4.0</td>\n",
       "      <td>The aroma has pine, wood, citrus, caramel, an...</td>\n",
       "      <td>2009-10-05 21:32:37</td>\n",
       "    </tr>\n",
       "    <tr>\n",
       "      <th>4</th>\n",
       "      <td>5.80</td>\n",
       "      <td>398</td>\n",
       "      <td>119</td>\n",
       "      <td>Wolaver's Pale Ale</td>\n",
       "      <td>American Pale Ale (APA)</td>\n",
       "      <td>4.0</td>\n",
       "      <td>3.0</td>\n",
       "      <td>4.0</td>\n",
       "      <td>3.5</td>\n",
       "      <td>champ103</td>\n",
       "      <td>3.0</td>\n",
       "      <td>A: Pours a slightly hazy golden/orange color....</td>\n",
       "      <td>2009-10-05 21:33:14</td>\n",
       "    </tr>\n",
       "    <tr>\n",
       "      <th>5</th>\n",
       "      <td>7.00</td>\n",
       "      <td>966</td>\n",
       "      <td>365</td>\n",
       "      <td>Pike Street XXXXX Stout</td>\n",
       "      <td>American Stout</td>\n",
       "      <td>4.0</td>\n",
       "      <td>4.0</td>\n",
       "      <td>3.5</td>\n",
       "      <td>4.0</td>\n",
       "      <td>sprucetip</td>\n",
       "      <td>4.5</td>\n",
       "      <td>From notes. Pours black, thin mocha head fade...</td>\n",
       "      <td>2009-10-05 21:33:48</td>\n",
       "    </tr>\n",
       "    <tr>\n",
       "      <th>6</th>\n",
       "      <td>6.20</td>\n",
       "      <td>53128</td>\n",
       "      <td>1114</td>\n",
       "      <td>Smokin' Amber Kegs Gone Wild</td>\n",
       "      <td>American Amber / Red Ale</td>\n",
       "      <td>3.5</td>\n",
       "      <td>4.0</td>\n",
       "      <td>4.5</td>\n",
       "      <td>4.0</td>\n",
       "      <td>Deuane</td>\n",
       "      <td>4.5</td>\n",
       "      <td>An American amber with the addition of smoked...</td>\n",
       "      <td>2009-10-05 21:34:24</td>\n",
       "    </tr>\n",
       "    <tr>\n",
       "      <th>7</th>\n",
       "      <td>4.80</td>\n",
       "      <td>1669</td>\n",
       "      <td>256</td>\n",
       "      <td>Great White</td>\n",
       "      <td>Witbier</td>\n",
       "      <td>4.5</td>\n",
       "      <td>4.5</td>\n",
       "      <td>4.5</td>\n",
       "      <td>4.5</td>\n",
       "      <td>n0rc41</td>\n",
       "      <td>4.5</td>\n",
       "      <td>Ok, for starters great white I believe will b...</td>\n",
       "      <td>2009-10-05 21:34:29</td>\n",
       "    </tr>\n",
       "    <tr>\n",
       "      <th>8</th>\n",
       "      <td>6.70</td>\n",
       "      <td>6549</td>\n",
       "      <td>140</td>\n",
       "      <td>Northern Hemisphere Harvest Wet Hop Ale</td>\n",
       "      <td>American IPA</td>\n",
       "      <td>4.0</td>\n",
       "      <td>4.0</td>\n",
       "      <td>4.0</td>\n",
       "      <td>4.0</td>\n",
       "      <td>david18</td>\n",
       "      <td>4.0</td>\n",
       "      <td>I like all of Sierra Nevada's beers but felt ...</td>\n",
       "      <td>2009-10-05 21:34:31</td>\n",
       "    </tr>\n",
       "    <tr>\n",
       "      <th>9</th>\n",
       "      <td>6.50</td>\n",
       "      <td>13824</td>\n",
       "      <td>743</td>\n",
       "      <td>Oktoberfest</td>\n",
       "      <td>Vienna Lager</td>\n",
       "      <td>3.0</td>\n",
       "      <td>2.5</td>\n",
       "      <td>2.5</td>\n",
       "      <td>2.5</td>\n",
       "      <td>Seanibus</td>\n",
       "      <td>2.5</td>\n",
       "      <td>This actually winds up coming out like a ligh...</td>\n",
       "      <td>2009-10-05 21:35:09</td>\n",
       "    </tr>\n",
       "    <tr>\n",
       "      <th>...</th>\n",
       "      <td>...</td>\n",
       "      <td>...</td>\n",
       "      <td>...</td>\n",
       "      <td>...</td>\n",
       "      <td>...</td>\n",
       "      <td>...</td>\n",
       "      <td>...</td>\n",
       "      <td>...</td>\n",
       "      <td>...</td>\n",
       "      <td>...</td>\n",
       "      <td>...</td>\n",
       "      <td>...</td>\n",
       "      <td>...</td>\n",
       "    </tr>\n",
       "    <tr>\n",
       "      <th>9990</th>\n",
       "      <td>10.50</td>\n",
       "      <td>2678</td>\n",
       "      <td>68</td>\n",
       "      <td>Horn Dog Barley Wine Style Ale</td>\n",
       "      <td>English Barleywine</td>\n",
       "      <td>4.0</td>\n",
       "      <td>4.0</td>\n",
       "      <td>4.5</td>\n",
       "      <td>4.0</td>\n",
       "      <td>Duhast500</td>\n",
       "      <td>4.0</td>\n",
       "      <td>Poured from a 7oz. bottle into a stemmed glas...</td>\n",
       "      <td>2009-10-21 03:23:47</td>\n",
       "    </tr>\n",
       "    <tr>\n",
       "      <th>9991</th>\n",
       "      <td>9.50</td>\n",
       "      <td>19216</td>\n",
       "      <td>158</td>\n",
       "      <td>Oak Aged Yeti Imperial Stout</td>\n",
       "      <td>Russian Imperial Stout</td>\n",
       "      <td>5.0</td>\n",
       "      <td>4.0</td>\n",
       "      <td>4.0</td>\n",
       "      <td>4.5</td>\n",
       "      <td>projectflam86</td>\n",
       "      <td>4.0</td>\n",
       "      <td>Got this through a trade with natelocc787. Th...</td>\n",
       "      <td>2009-10-21 03:25:01</td>\n",
       "    </tr>\n",
       "    <tr>\n",
       "      <th>9992</th>\n",
       "      <td>5.90</td>\n",
       "      <td>37477</td>\n",
       "      <td>140</td>\n",
       "      <td>Sierra Nevada Anniversary Ale (2007-2009)</td>\n",
       "      <td>American IPA</td>\n",
       "      <td>4.0</td>\n",
       "      <td>4.0</td>\n",
       "      <td>3.5</td>\n",
       "      <td>3.5</td>\n",
       "      <td>Duhast500</td>\n",
       "      <td>4.0</td>\n",
       "      <td>Poured from a 12.0z bottle into a pint glass....</td>\n",
       "      <td>2009-10-21 03:25:06</td>\n",
       "    </tr>\n",
       "    <tr>\n",
       "      <th>9993</th>\n",
       "      <td>4.10</td>\n",
       "      <td>927</td>\n",
       "      <td>358</td>\n",
       "      <td>Beamish Irish Stout</td>\n",
       "      <td>Irish Dry Stout</td>\n",
       "      <td>4.5</td>\n",
       "      <td>4.0</td>\n",
       "      <td>4.5</td>\n",
       "      <td>3.0</td>\n",
       "      <td>CityBoy1986</td>\n",
       "      <td>4.0</td>\n",
       "      <td>Poured into a pint glass from a 14.9 oz. nitr...</td>\n",
       "      <td>2009-10-21 03:26:15</td>\n",
       "    </tr>\n",
       "    <tr>\n",
       "      <th>9994</th>\n",
       "      <td>6.00</td>\n",
       "      <td>52842</td>\n",
       "      <td>418</td>\n",
       "      <td>Chocolate Starfish</td>\n",
       "      <td>English Brown Ale</td>\n",
       "      <td>4.0</td>\n",
       "      <td>2.0</td>\n",
       "      <td>4.0</td>\n",
       "      <td>1.5</td>\n",
       "      <td>adamette</td>\n",
       "      <td>2.5</td>\n",
       "      <td>On tap at HopCat in Grand Rapids, MI two days...</td>\n",
       "      <td>2009-10-21 03:29:40</td>\n",
       "    </tr>\n",
       "    <tr>\n",
       "      <th>9995</th>\n",
       "      <td>8.50</td>\n",
       "      <td>5426</td>\n",
       "      <td>2085</td>\n",
       "      <td>Dragonmead Final Absolution Trippel</td>\n",
       "      <td>Tripel</td>\n",
       "      <td>4.0</td>\n",
       "      <td>4.5</td>\n",
       "      <td>4.0</td>\n",
       "      <td>3.5</td>\n",
       "      <td>adamette</td>\n",
       "      <td>4.0</td>\n",
       "      <td>On tap at HopCat in Grand Rapids, MI two days...</td>\n",
       "      <td>2009-10-21 03:32:33</td>\n",
       "    </tr>\n",
       "    <tr>\n",
       "      <th>9996</th>\n",
       "      <td>4.10</td>\n",
       "      <td>51464</td>\n",
       "      <td>29</td>\n",
       "      <td>Bud Light Golden Wheat</td>\n",
       "      <td>Herbed / Spiced Beer</td>\n",
       "      <td>4.0</td>\n",
       "      <td>3.0</td>\n",
       "      <td>3.0</td>\n",
       "      <td>3.0</td>\n",
       "      <td>yemenmocha</td>\n",
       "      <td>2.5</td>\n",
       "      <td>Pours hazy golden color with generous white h...</td>\n",
       "      <td>2009-10-21 03:32:34</td>\n",
       "    </tr>\n",
       "    <tr>\n",
       "      <th>9997</th>\n",
       "      <td>8.50</td>\n",
       "      <td>53167</td>\n",
       "      <td>30</td>\n",
       "      <td>DuganA IPA</td>\n",
       "      <td>American Double / Imperial IPA</td>\n",
       "      <td>4.5</td>\n",
       "      <td>4.5</td>\n",
       "      <td>4.0</td>\n",
       "      <td>4.0</td>\n",
       "      <td>HopHead84</td>\n",
       "      <td>4.0</td>\n",
       "      <td>Consumed on 10/12/2009 on tap at Stone. The b...</td>\n",
       "      <td>2009-10-21 03:33:39</td>\n",
       "    </tr>\n",
       "    <tr>\n",
       "      <th>9998</th>\n",
       "      <td>6.90</td>\n",
       "      <td>17900</td>\n",
       "      <td>9629</td>\n",
       "      <td>Short's Huma-Lupa-Licious IPA</td>\n",
       "      <td>American IPA</td>\n",
       "      <td>4.0</td>\n",
       "      <td>4.0</td>\n",
       "      <td>4.0</td>\n",
       "      <td>4.0</td>\n",
       "      <td>adamette</td>\n",
       "      <td>4.5</td>\n",
       "      <td>Bartender mentioned that this is the HopCat O...</td>\n",
       "      <td>2009-10-21 03:33:45</td>\n",
       "    </tr>\n",
       "    <tr>\n",
       "      <th>9999</th>\n",
       "      <td>4.98</td>\n",
       "      <td>47465</td>\n",
       "      <td>143</td>\n",
       "      <td>Shiner Kosmos Reserve</td>\n",
       "      <td>American Pale Lager</td>\n",
       "      <td>3.5</td>\n",
       "      <td>3.5</td>\n",
       "      <td>4.0</td>\n",
       "      <td>3.5</td>\n",
       "      <td>dbtoe</td>\n",
       "      <td>4.0</td>\n",
       "      <td>12 oz bottle poured into a shaker pint glass....</td>\n",
       "      <td>2009-10-21 03:33:45</td>\n",
       "    </tr>\n",
       "  </tbody>\n",
       "</table>\n",
       "<p>10000 rows × 13 columns</p>\n",
       "</div>"
      ],
      "text/plain": [
       "        abv  beer_id  brewer_id                                  beer_name  \\\n",
       "0      7.00     2511        287                        Bell's Cherry Stout   \n",
       "1      5.70    19736       9790                         Duck-Rabbit Porter   \n",
       "2      4.80    11098       3182               Fürstenberg Premium Pilsener   \n",
       "3      9.50    28577       3818        Unearthly (Imperial India Pale Ale)   \n",
       "4      5.80      398        119                         Wolaver's Pale Ale   \n",
       "5      7.00      966        365                    Pike Street XXXXX Stout   \n",
       "6      6.20    53128       1114               Smokin' Amber Kegs Gone Wild   \n",
       "7      4.80     1669        256                                Great White   \n",
       "8      6.70     6549        140    Northern Hemisphere Harvest Wet Hop Ale   \n",
       "9      6.50    13824        743                                Oktoberfest   \n",
       "...     ...      ...        ...                                        ...   \n",
       "9990  10.50     2678         68             Horn Dog Barley Wine Style Ale   \n",
       "9991   9.50    19216        158               Oak Aged Yeti Imperial Stout   \n",
       "9992   5.90    37477        140  Sierra Nevada Anniversary Ale (2007-2009)   \n",
       "9993   4.10      927        358                        Beamish Irish Stout   \n",
       "9994   6.00    52842        418                         Chocolate Starfish   \n",
       "9995   8.50     5426       2085        Dragonmead Final Absolution Trippel   \n",
       "9996   4.10    51464         29                     Bud Light Golden Wheat   \n",
       "9997   8.50    53167         30                                 DuganA IPA   \n",
       "9998   6.90    17900       9629              Short's Huma-Lupa-Licious IPA   \n",
       "9999   4.98    47465        143                      Shiner Kosmos Reserve   \n",
       "\n",
       "                          beer_style  review_appearance  review_aroma  \\\n",
       "0                     American Stout                4.5           4.0   \n",
       "1                    American Porter                4.5           4.0   \n",
       "2                    German Pilsener                4.0           3.0   \n",
       "3     American Double / Imperial IPA                4.0           4.0   \n",
       "4            American Pale Ale (APA)                4.0           3.0   \n",
       "5                     American Stout                4.0           4.0   \n",
       "6           American Amber / Red Ale                3.5           4.0   \n",
       "7                            Witbier                4.5           4.5   \n",
       "8                       American IPA                4.0           4.0   \n",
       "9                       Vienna Lager                3.0           2.5   \n",
       "...                              ...                ...           ...   \n",
       "9990              English Barleywine                4.0           4.0   \n",
       "9991          Russian Imperial Stout                5.0           4.0   \n",
       "9992                    American IPA                4.0           4.0   \n",
       "9993                 Irish Dry Stout                4.5           4.0   \n",
       "9994               English Brown Ale                4.0           2.0   \n",
       "9995                          Tripel                4.0           4.5   \n",
       "9996            Herbed / Spiced Beer                4.0           3.0   \n",
       "9997  American Double / Imperial IPA                4.5           4.5   \n",
       "9998                    American IPA                4.0           4.0   \n",
       "9999             American Pale Lager                3.5           3.5   \n",
       "\n",
       "      review_overall  review_palate   profile_name  review_taste  \\\n",
       "0                4.5            4.0       blaheath           4.5   \n",
       "1                4.5            4.0           GJ40           4.0   \n",
       "2                3.0            3.0       biegaman           3.5   \n",
       "3                4.0            4.0         nick76           4.0   \n",
       "4                4.0            3.5       champ103           3.0   \n",
       "5                3.5            4.0      sprucetip           4.5   \n",
       "6                4.5            4.0         Deuane           4.5   \n",
       "7                4.5            4.5         n0rc41           4.5   \n",
       "8                4.0            4.0        david18           4.0   \n",
       "9                2.5            2.5       Seanibus           2.5   \n",
       "...              ...            ...            ...           ...   \n",
       "9990             4.5            4.0      Duhast500           4.0   \n",
       "9991             4.0            4.5  projectflam86           4.0   \n",
       "9992             3.5            3.5      Duhast500           4.0   \n",
       "9993             4.5            3.0    CityBoy1986           4.0   \n",
       "9994             4.0            1.5       adamette           2.5   \n",
       "9995             4.0            3.5       adamette           4.0   \n",
       "9996             3.0            3.0     yemenmocha           2.5   \n",
       "9997             4.0            4.0      HopHead84           4.0   \n",
       "9998             4.0            4.0       adamette           4.5   \n",
       "9999             4.0            3.5          dbtoe           4.0   \n",
       "\n",
       "                                                   text                time  \n",
       "0      Batch 8144\\tPitch black in color with a 1/2 f... 2009-10-05 21:31:48  \n",
       "1      Sampled from a 12oz bottle in a standard pint... 2009-10-05 21:32:09  \n",
       "2      Haystack yellow with an energetic group of bu... 2009-10-05 21:32:13  \n",
       "3      The aroma has pine, wood, citrus, caramel, an... 2009-10-05 21:32:37  \n",
       "4      A: Pours a slightly hazy golden/orange color.... 2009-10-05 21:33:14  \n",
       "5      From notes. Pours black, thin mocha head fade... 2009-10-05 21:33:48  \n",
       "6      An American amber with the addition of smoked... 2009-10-05 21:34:24  \n",
       "7      Ok, for starters great white I believe will b... 2009-10-05 21:34:29  \n",
       "8      I like all of Sierra Nevada's beers but felt ... 2009-10-05 21:34:31  \n",
       "9      This actually winds up coming out like a ligh... 2009-10-05 21:35:09  \n",
       "...                                                 ...                 ...  \n",
       "9990   Poured from a 7oz. bottle into a stemmed glas... 2009-10-21 03:23:47  \n",
       "9991   Got this through a trade with natelocc787. Th... 2009-10-21 03:25:01  \n",
       "9992   Poured from a 12.0z bottle into a pint glass.... 2009-10-21 03:25:06  \n",
       "9993   Poured into a pint glass from a 14.9 oz. nitr... 2009-10-21 03:26:15  \n",
       "9994   On tap at HopCat in Grand Rapids, MI two days... 2009-10-21 03:29:40  \n",
       "9995   On tap at HopCat in Grand Rapids, MI two days... 2009-10-21 03:32:33  \n",
       "9996   Pours hazy golden color with generous white h... 2009-10-21 03:32:34  \n",
       "9997   Consumed on 10/12/2009 on tap at Stone. The b... 2009-10-21 03:33:39  \n",
       "9998   Bartender mentioned that this is the HopCat O... 2009-10-21 03:33:45  \n",
       "9999   12 oz bottle poured into a shaker pint glass.... 2009-10-21 03:33:45  \n",
       "\n",
       "[10000 rows x 13 columns]"
      ]
     },
     "execution_count": 84,
     "metadata": {},
     "output_type": "execute_result"
    }
   ],
   "source": [
    "mychunck"
   ]
  },
  {
   "cell_type": "code",
   "execution_count": 85,
   "metadata": {
    "collapsed": true
   },
   "outputs": [],
   "source": [
    "mychunk = next(chunks_it)"
   ]
  },
  {
   "cell_type": "code",
   "execution_count": 86,
   "metadata": {
    "collapsed": false
   },
   "outputs": [
    {
     "data": {
      "text/html": [
       "<div>\n",
       "<table border=\"1\" class=\"dataframe\">\n",
       "  <thead>\n",
       "    <tr style=\"text-align: right;\">\n",
       "      <th></th>\n",
       "      <th>abv</th>\n",
       "      <th>beer_id</th>\n",
       "      <th>brewer_id</th>\n",
       "      <th>beer_name</th>\n",
       "      <th>beer_style</th>\n",
       "      <th>review_appearance</th>\n",
       "      <th>review_aroma</th>\n",
       "      <th>review_overall</th>\n",
       "      <th>review_palate</th>\n",
       "      <th>profile_name</th>\n",
       "      <th>review_taste</th>\n",
       "      <th>text</th>\n",
       "      <th>time</th>\n",
       "    </tr>\n",
       "  </thead>\n",
       "  <tbody>\n",
       "    <tr>\n",
       "      <th>10000</th>\n",
       "      <td>6.0</td>\n",
       "      <td>33236</td>\n",
       "      <td>26</td>\n",
       "      <td>Munsterfest</td>\n",
       "      <td>Märzen / Oktoberfest</td>\n",
       "      <td>4.0</td>\n",
       "      <td>3.0</td>\n",
       "      <td>3.5</td>\n",
       "      <td>4.0</td>\n",
       "      <td>BedetheVenerable</td>\n",
       "      <td>3.0</td>\n",
       "      <td>Presentation: 22oz brown pop-top with cool la...</td>\n",
       "      <td>2009-10-21 03:35:55</td>\n",
       "    </tr>\n",
       "    <tr>\n",
       "      <th>10001</th>\n",
       "      <td>7.0</td>\n",
       "      <td>19686</td>\n",
       "      <td>9629</td>\n",
       "      <td>Short's Black Cherry Porter</td>\n",
       "      <td>American Porter</td>\n",
       "      <td>5.0</td>\n",
       "      <td>4.0</td>\n",
       "      <td>3.5</td>\n",
       "      <td>5.0</td>\n",
       "      <td>adamette</td>\n",
       "      <td>4.5</td>\n",
       "      <td>This was the bartender's recommendation at Ho...</td>\n",
       "      <td>2009-10-21 03:36:47</td>\n",
       "    </tr>\n",
       "    <tr>\n",
       "      <th>10002</th>\n",
       "      <td>NaN</td>\n",
       "      <td>47185</td>\n",
       "      <td>16533</td>\n",
       "      <td>Amber Ale</td>\n",
       "      <td>American Amber / Red Ale</td>\n",
       "      <td>3.0</td>\n",
       "      <td>3.0</td>\n",
       "      <td>3.5</td>\n",
       "      <td>3.5</td>\n",
       "      <td>Tone</td>\n",
       "      <td>3.5</td>\n",
       "      <td>Pours a clear, copper color. 1/5 inch head of...</td>\n",
       "      <td>2009-10-21 03:37:13</td>\n",
       "    </tr>\n",
       "    <tr>\n",
       "      <th>10003</th>\n",
       "      <td>6.7</td>\n",
       "      <td>52371</td>\n",
       "      <td>140</td>\n",
       "      <td>Sierra Nevada Estate Brewers Harvest Ale</td>\n",
       "      <td>American IPA</td>\n",
       "      <td>4.5</td>\n",
       "      <td>4.0</td>\n",
       "      <td>4.0</td>\n",
       "      <td>3.5</td>\n",
       "      <td>mothman</td>\n",
       "      <td>4.0</td>\n",
       "      <td>Poured into Bud American Ale glass\\t\\tPours a...</td>\n",
       "      <td>2009-10-21 03:37:39</td>\n",
       "    </tr>\n",
       "    <tr>\n",
       "      <th>10004</th>\n",
       "      <td>9.0</td>\n",
       "      <td>18021</td>\n",
       "      <td>9629</td>\n",
       "      <td>Short's The Soft Parade</td>\n",
       "      <td>Fruit / Vegetable Beer</td>\n",
       "      <td>4.0</td>\n",
       "      <td>3.5</td>\n",
       "      <td>4.0</td>\n",
       "      <td>4.0</td>\n",
       "      <td>adamette</td>\n",
       "      <td>3.5</td>\n",
       "      <td>On tap at HopCat in Grand Rapids, MI two days...</td>\n",
       "      <td>2009-10-21 03:38:07</td>\n",
       "    </tr>\n",
       "    <tr>\n",
       "      <th>10005</th>\n",
       "      <td>6.4</td>\n",
       "      <td>50</td>\n",
       "      <td>139</td>\n",
       "      <td>Tremont Freedom Trail IPA</td>\n",
       "      <td>English India Pale Ale (IPA)</td>\n",
       "      <td>4.0</td>\n",
       "      <td>3.5</td>\n",
       "      <td>4.0</td>\n",
       "      <td>4.0</td>\n",
       "      <td>jwinship83</td>\n",
       "      <td>4.0</td>\n",
       "      <td>12oz bottle given to me by my sister who got ...</td>\n",
       "      <td>2009-10-21 03:38:42</td>\n",
       "    </tr>\n",
       "    <tr>\n",
       "      <th>10006</th>\n",
       "      <td>7.3</td>\n",
       "      <td>22505</td>\n",
       "      <td>2743</td>\n",
       "      <td>Green Flash West Coast I.P.A.</td>\n",
       "      <td>American IPA</td>\n",
       "      <td>4.0</td>\n",
       "      <td>4.5</td>\n",
       "      <td>4.5</td>\n",
       "      <td>4.0</td>\n",
       "      <td>augustgarage</td>\n",
       "      <td>4.5</td>\n",
       "      <td>On cask during Green Flash night at Blue Palm...</td>\n",
       "      <td>2009-10-21 03:40:02</td>\n",
       "    </tr>\n",
       "    <tr>\n",
       "      <th>10007</th>\n",
       "      <td>5.7</td>\n",
       "      <td>33159</td>\n",
       "      <td>199</td>\n",
       "      <td>Ballast Point Rocktoberfest Lager</td>\n",
       "      <td>Märzen / Oktoberfest</td>\n",
       "      <td>4.0</td>\n",
       "      <td>4.0</td>\n",
       "      <td>4.0</td>\n",
       "      <td>4.0</td>\n",
       "      <td>HopHead84</td>\n",
       "      <td>4.0</td>\n",
       "      <td>Consumed at the Old Grove location on 10/17/2...</td>\n",
       "      <td>2009-10-21 03:43:26</td>\n",
       "    </tr>\n",
       "    <tr>\n",
       "      <th>10008</th>\n",
       "      <td>6.2</td>\n",
       "      <td>51631</td>\n",
       "      <td>158</td>\n",
       "      <td>Hoss</td>\n",
       "      <td>Märzen / Oktoberfest</td>\n",
       "      <td>4.0</td>\n",
       "      <td>4.0</td>\n",
       "      <td>4.0</td>\n",
       "      <td>4.0</td>\n",
       "      <td>cswhitehorse</td>\n",
       "      <td>4.5</td>\n",
       "      <td>The Hoss poured a light amber like color with...</td>\n",
       "      <td>2009-10-21 03:47:19</td>\n",
       "    </tr>\n",
       "    <tr>\n",
       "      <th>10009</th>\n",
       "      <td>4.8</td>\n",
       "      <td>31282</td>\n",
       "      <td>132</td>\n",
       "      <td>Morimoto Black Obi Soba Ale</td>\n",
       "      <td>Fruit / Vegetable Beer</td>\n",
       "      <td>4.5</td>\n",
       "      <td>4.0</td>\n",
       "      <td>4.0</td>\n",
       "      <td>4.0</td>\n",
       "      <td>BigDank</td>\n",
       "      <td>4.0</td>\n",
       "      <td>Beer poured a pretty dark brown but not too d...</td>\n",
       "      <td>2009-10-21 03:50:02</td>\n",
       "    </tr>\n",
       "    <tr>\n",
       "      <th>...</th>\n",
       "      <td>...</td>\n",
       "      <td>...</td>\n",
       "      <td>...</td>\n",
       "      <td>...</td>\n",
       "      <td>...</td>\n",
       "      <td>...</td>\n",
       "      <td>...</td>\n",
       "      <td>...</td>\n",
       "      <td>...</td>\n",
       "      <td>...</td>\n",
       "      <td>...</td>\n",
       "      <td>...</td>\n",
       "      <td>...</td>\n",
       "    </tr>\n",
       "    <tr>\n",
       "      <th>19990</th>\n",
       "      <td>4.9</td>\n",
       "      <td>32575</td>\n",
       "      <td>143</td>\n",
       "      <td>Bohemian Black Lager</td>\n",
       "      <td>Schwarzbier</td>\n",
       "      <td>3.5</td>\n",
       "      <td>4.0</td>\n",
       "      <td>4.0</td>\n",
       "      <td>3.5</td>\n",
       "      <td>aggiearcher13</td>\n",
       "      <td>4.0</td>\n",
       "      <td>Notes from a few weeks ago...\\t\\tA: Black. So...</td>\n",
       "      <td>2009-11-08 05:41:58</td>\n",
       "    </tr>\n",
       "    <tr>\n",
       "      <th>19991</th>\n",
       "      <td>4.4</td>\n",
       "      <td>1075</td>\n",
       "      <td>143</td>\n",
       "      <td>Shiner Blonde</td>\n",
       "      <td>American Pale Lager</td>\n",
       "      <td>2.5</td>\n",
       "      <td>2.5</td>\n",
       "      <td>2.5</td>\n",
       "      <td>3.0</td>\n",
       "      <td>aggiearcher13</td>\n",
       "      <td>3.0</td>\n",
       "      <td>From a shiner mix-six a few weeks ago...\\t\\tA...</td>\n",
       "      <td>2009-11-08 05:46:10</td>\n",
       "    </tr>\n",
       "    <tr>\n",
       "      <th>19992</th>\n",
       "      <td>5.4</td>\n",
       "      <td>1552</td>\n",
       "      <td>143</td>\n",
       "      <td>Shiner Hefeweizen</td>\n",
       "      <td>Hefeweizen</td>\n",
       "      <td>3.0</td>\n",
       "      <td>3.0</td>\n",
       "      <td>3.0</td>\n",
       "      <td>3.0</td>\n",
       "      <td>aggiearcher13</td>\n",
       "      <td>3.0</td>\n",
       "      <td>From a Shiner mix-six a while back...\\t\\tA: h...</td>\n",
       "      <td>2009-11-08 05:49:09</td>\n",
       "    </tr>\n",
       "    <tr>\n",
       "      <th>19993</th>\n",
       "      <td>5.0</td>\n",
       "      <td>41862</td>\n",
       "      <td>417</td>\n",
       "      <td>Stout</td>\n",
       "      <td>English Stout</td>\n",
       "      <td>4.0</td>\n",
       "      <td>3.5</td>\n",
       "      <td>4.0</td>\n",
       "      <td>4.0</td>\n",
       "      <td>CRichardsMN</td>\n",
       "      <td>5.0</td>\n",
       "      <td>Appearance:\\tDark, dark brown (BLACK) with a ...</td>\n",
       "      <td>2009-11-08 05:49:47</td>\n",
       "    </tr>\n",
       "    <tr>\n",
       "      <th>19994</th>\n",
       "      <td>10.0</td>\n",
       "      <td>17060</td>\n",
       "      <td>158</td>\n",
       "      <td>Hercules Double IPA</td>\n",
       "      <td>American Double / Imperial IPA</td>\n",
       "      <td>5.0</td>\n",
       "      <td>4.0</td>\n",
       "      <td>5.0</td>\n",
       "      <td>5.0</td>\n",
       "      <td>JohnL9013</td>\n",
       "      <td>4.0</td>\n",
       "      <td>An absolutely excellent DIPA from the bewery ...</td>\n",
       "      <td>2009-11-08 05:55:30</td>\n",
       "    </tr>\n",
       "    <tr>\n",
       "      <th>19995</th>\n",
       "      <td>5.6</td>\n",
       "      <td>3375</td>\n",
       "      <td>784</td>\n",
       "      <td>Chief BlackHawk Porter</td>\n",
       "      <td>American Porter</td>\n",
       "      <td>4.0</td>\n",
       "      <td>4.0</td>\n",
       "      <td>4.0</td>\n",
       "      <td>3.5</td>\n",
       "      <td>minnunderground</td>\n",
       "      <td>4.5</td>\n",
       "      <td>12 oz bottle poured in tumbler\\t\\tA- dark mah...</td>\n",
       "      <td>2009-11-08 05:59:47</td>\n",
       "    </tr>\n",
       "    <tr>\n",
       "      <th>19996</th>\n",
       "      <td>7.0</td>\n",
       "      <td>53434</td>\n",
       "      <td>1550</td>\n",
       "      <td>Simcoe Smackdown! IPA</td>\n",
       "      <td>American IPA</td>\n",
       "      <td>3.0</td>\n",
       "      <td>4.0</td>\n",
       "      <td>4.0</td>\n",
       "      <td>3.5</td>\n",
       "      <td>homebrew311</td>\n",
       "      <td>4.5</td>\n",
       "      <td>A: very hazy appearance, pale yellow with a h...</td>\n",
       "      <td>2009-11-08 06:05:52</td>\n",
       "    </tr>\n",
       "    <tr>\n",
       "      <th>19997</th>\n",
       "      <td>10.0</td>\n",
       "      <td>45653</td>\n",
       "      <td>863</td>\n",
       "      <td>Consecration</td>\n",
       "      <td>American Wild Ale</td>\n",
       "      <td>4.5</td>\n",
       "      <td>4.0</td>\n",
       "      <td>4.0</td>\n",
       "      <td>4.5</td>\n",
       "      <td>stoutfiend27</td>\n",
       "      <td>4.5</td>\n",
       "      <td>bottle sent to me by genghis22 ..poured into ...</td>\n",
       "      <td>2009-11-08 06:10:02</td>\n",
       "    </tr>\n",
       "    <tr>\n",
       "      <th>19998</th>\n",
       "      <td>10.3</td>\n",
       "      <td>33127</td>\n",
       "      <td>13014</td>\n",
       "      <td>Darkness</td>\n",
       "      <td>Russian Imperial Stout</td>\n",
       "      <td>5.0</td>\n",
       "      <td>4.5</td>\n",
       "      <td>4.0</td>\n",
       "      <td>4.0</td>\n",
       "      <td>homebrew311</td>\n",
       "      <td>5.0</td>\n",
       "      <td>served in a snifter at the Small Bar\\t\\tA: Th...</td>\n",
       "      <td>2009-11-08 06:18:32</td>\n",
       "    </tr>\n",
       "    <tr>\n",
       "      <th>19999</th>\n",
       "      <td>7.0</td>\n",
       "      <td>20750</td>\n",
       "      <td>3521</td>\n",
       "      <td>Zoetzuur Flemish Ale</td>\n",
       "      <td>Flanders Red Ale</td>\n",
       "      <td>4.5</td>\n",
       "      <td>4.5</td>\n",
       "      <td>4.5</td>\n",
       "      <td>4.5</td>\n",
       "      <td>rtepiak</td>\n",
       "      <td>4.0</td>\n",
       "      <td>a nice balanced flemish red with a mild sour ...</td>\n",
       "      <td>2009-11-08 06:20:02</td>\n",
       "    </tr>\n",
       "  </tbody>\n",
       "</table>\n",
       "<p>10000 rows × 13 columns</p>\n",
       "</div>"
      ],
      "text/plain": [
       "        abv  beer_id  brewer_id                                 beer_name  \\\n",
       "10000   6.0    33236         26                               Munsterfest   \n",
       "10001   7.0    19686       9629               Short's Black Cherry Porter   \n",
       "10002   NaN    47185      16533                                 Amber Ale   \n",
       "10003   6.7    52371        140  Sierra Nevada Estate Brewers Harvest Ale   \n",
       "10004   9.0    18021       9629                   Short's The Soft Parade   \n",
       "10005   6.4       50        139                 Tremont Freedom Trail IPA   \n",
       "10006   7.3    22505       2743             Green Flash West Coast I.P.A.   \n",
       "10007   5.7    33159        199         Ballast Point Rocktoberfest Lager   \n",
       "10008   6.2    51631        158                                      Hoss   \n",
       "10009   4.8    31282        132               Morimoto Black Obi Soba Ale   \n",
       "...     ...      ...        ...                                       ...   \n",
       "19990   4.9    32575        143                      Bohemian Black Lager   \n",
       "19991   4.4     1075        143                             Shiner Blonde   \n",
       "19992   5.4     1552        143                         Shiner Hefeweizen   \n",
       "19993   5.0    41862        417                                     Stout   \n",
       "19994  10.0    17060        158                       Hercules Double IPA   \n",
       "19995   5.6     3375        784                    Chief BlackHawk Porter   \n",
       "19996   7.0    53434       1550                     Simcoe Smackdown! IPA   \n",
       "19997  10.0    45653        863                              Consecration   \n",
       "19998  10.3    33127      13014                                  Darkness   \n",
       "19999   7.0    20750       3521                      Zoetzuur Flemish Ale   \n",
       "\n",
       "                           beer_style  review_appearance  review_aroma  \\\n",
       "10000            Märzen / Oktoberfest                4.0           3.0   \n",
       "10001                 American Porter                5.0           4.0   \n",
       "10002        American Amber / Red Ale                3.0           3.0   \n",
       "10003                    American IPA                4.5           4.0   \n",
       "10004          Fruit / Vegetable Beer                4.0           3.5   \n",
       "10005    English India Pale Ale (IPA)                4.0           3.5   \n",
       "10006                    American IPA                4.0           4.5   \n",
       "10007            Märzen / Oktoberfest                4.0           4.0   \n",
       "10008            Märzen / Oktoberfest                4.0           4.0   \n",
       "10009          Fruit / Vegetable Beer                4.5           4.0   \n",
       "...                               ...                ...           ...   \n",
       "19990                     Schwarzbier                3.5           4.0   \n",
       "19991             American Pale Lager                2.5           2.5   \n",
       "19992                      Hefeweizen                3.0           3.0   \n",
       "19993                   English Stout                4.0           3.5   \n",
       "19994  American Double / Imperial IPA                5.0           4.0   \n",
       "19995                 American Porter                4.0           4.0   \n",
       "19996                    American IPA                3.0           4.0   \n",
       "19997               American Wild Ale                4.5           4.0   \n",
       "19998          Russian Imperial Stout                5.0           4.5   \n",
       "19999                Flanders Red Ale                4.5           4.5   \n",
       "\n",
       "       review_overall  review_palate      profile_name  review_taste  \\\n",
       "10000             3.5            4.0  BedetheVenerable           3.0   \n",
       "10001             3.5            5.0          adamette           4.5   \n",
       "10002             3.5            3.5              Tone           3.5   \n",
       "10003             4.0            3.5           mothman           4.0   \n",
       "10004             4.0            4.0          adamette           3.5   \n",
       "10005             4.0            4.0        jwinship83           4.0   \n",
       "10006             4.5            4.0      augustgarage           4.5   \n",
       "10007             4.0            4.0         HopHead84           4.0   \n",
       "10008             4.0            4.0      cswhitehorse           4.5   \n",
       "10009             4.0            4.0           BigDank           4.0   \n",
       "...               ...            ...               ...           ...   \n",
       "19990             4.0            3.5     aggiearcher13           4.0   \n",
       "19991             2.5            3.0     aggiearcher13           3.0   \n",
       "19992             3.0            3.0     aggiearcher13           3.0   \n",
       "19993             4.0            4.0       CRichardsMN           5.0   \n",
       "19994             5.0            5.0         JohnL9013           4.0   \n",
       "19995             4.0            3.5   minnunderground           4.5   \n",
       "19996             4.0            3.5       homebrew311           4.5   \n",
       "19997             4.0            4.5      stoutfiend27           4.5   \n",
       "19998             4.0            4.0       homebrew311           5.0   \n",
       "19999             4.5            4.5           rtepiak           4.0   \n",
       "\n",
       "                                                    text                time  \n",
       "10000   Presentation: 22oz brown pop-top with cool la... 2009-10-21 03:35:55  \n",
       "10001   This was the bartender's recommendation at Ho... 2009-10-21 03:36:47  \n",
       "10002   Pours a clear, copper color. 1/5 inch head of... 2009-10-21 03:37:13  \n",
       "10003   Poured into Bud American Ale glass\\t\\tPours a... 2009-10-21 03:37:39  \n",
       "10004   On tap at HopCat in Grand Rapids, MI two days... 2009-10-21 03:38:07  \n",
       "10005   12oz bottle given to me by my sister who got ... 2009-10-21 03:38:42  \n",
       "10006   On cask during Green Flash night at Blue Palm... 2009-10-21 03:40:02  \n",
       "10007   Consumed at the Old Grove location on 10/17/2... 2009-10-21 03:43:26  \n",
       "10008   The Hoss poured a light amber like color with... 2009-10-21 03:47:19  \n",
       "10009   Beer poured a pretty dark brown but not too d... 2009-10-21 03:50:02  \n",
       "...                                                  ...                 ...  \n",
       "19990   Notes from a few weeks ago...\\t\\tA: Black. So... 2009-11-08 05:41:58  \n",
       "19991   From a shiner mix-six a few weeks ago...\\t\\tA... 2009-11-08 05:46:10  \n",
       "19992   From a Shiner mix-six a while back...\\t\\tA: h... 2009-11-08 05:49:09  \n",
       "19993   Appearance:\\tDark, dark brown (BLACK) with a ... 2009-11-08 05:49:47  \n",
       "19994   An absolutely excellent DIPA from the bewery ... 2009-11-08 05:55:30  \n",
       "19995   12 oz bottle poured in tumbler\\t\\tA- dark mah... 2009-11-08 05:59:47  \n",
       "19996   A: very hazy appearance, pale yellow with a h... 2009-11-08 06:05:52  \n",
       "19997   bottle sent to me by genghis22 ..poured into ... 2009-11-08 06:10:02  \n",
       "19998   served in a snifter at the Small Bar\\t\\tA: Th... 2009-11-08 06:18:32  \n",
       "19999   a nice balanced flemish red with a mild sour ... 2009-11-08 06:20:02  \n",
       "\n",
       "[10000 rows x 13 columns]"
      ]
     },
     "execution_count": 86,
     "metadata": {},
     "output_type": "execute_result"
    }
   ],
   "source": [
    "mychunk"
   ]
  },
  {
   "cell_type": "code",
   "execution_count": null,
   "metadata": {
    "collapsed": true
   },
   "outputs": [],
   "source": []
  },
  {
   "cell_type": "code",
   "execution_count": null,
   "metadata": {
    "collapsed": true
   },
   "outputs": [],
   "source": []
  },
  {
   "cell_type": "markdown",
   "metadata": {
    "slideshow": {
     "slide_type": "fragment"
    }
   },
   "source": [
    "# Using Odo\n",
    "http://odo.readthedocs.org/"
   ]
  },
  {
   "cell_type": "markdown",
   "metadata": {
    "slideshow": {
     "slide_type": "subslide"
    }
   },
   "source": [
    "# Questions\n",
    "\n",
    "- which formats provide good fidelity\n",
    "  - hdf5, pickle, msgpack\n",
    "  \n",
    "- which formats can you query\n",
    "  - hdf5, sql\n",
    "  \n",
    "- which formats can you iterate\n",
    "  - csv, hdf5, sql\n",
    "  \n",
    "- which formats provide better interoprability\n",
    "  - csv, json, excel\n",
    "  \n",
    "- which formats can you transmit over the wire\n",
    "  - json, msgpack\n",
    "  \n",
    "- which formats have better compression\n",
    "  - hdf5, pickle, msgpack\n",
    "  \n",
    "- which formats allow multiple datasets in the same file\n",
    "  - hdf5, msgpack"
   ]
  }
 ],
 "metadata": {
  "celltoolbar": "Slideshow",
  "kernelspec": {
   "display_name": "Python 3",
   "language": "python",
   "name": "python3"
  },
  "language_info": {
   "codemirror_mode": {
    "name": "ipython",
    "version": 3
   },
   "file_extension": ".py",
   "mimetype": "text/x-python",
   "name": "python",
   "nbconvert_exporter": "python",
   "pygments_lexer": "ipython3",
   "version": "3.5.1"
  }
 },
 "nbformat": 4,
 "nbformat_minor": 0
}
